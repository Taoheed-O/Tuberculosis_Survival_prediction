{
 "cells": [
  {
   "cell_type": "code",
   "execution_count": 100,
   "metadata": {},
   "outputs": [],
   "source": [
    "import numpy as np\n",
    "import pandas as pd\n",
    "import matplotlib.pyplot as plt\n",
    "import seaborn as sns"
   ]
  },
  {
   "cell_type": "code",
   "execution_count": 101,
   "metadata": {},
   "outputs": [],
   "source": [
    "specimen_2022 = pd.read_csv('Tuberculosis files/TB_Portals_Specimen_January_2022.csv')\n",
    "specimen_2023 = pd.read_csv('Tuberculosis files/TB_Portals_Specimen_January_2023.csv')\n",
    "regimens_2022 = pd.read_csv('Tuberculosis files/TB_Portals_Regimens_January_2022.csv')\n",
    "regimens_2023 = pd.read_csv('Tuberculosis files/TB_Portals_Regimens_January_2023.csv')\n",
    "patients_2022 = pd.read_csv('Tuberculosis files/TB_Portals_Patient_Cases_January_2022.csv')\n",
    "patients_2023 = pd.read_csv('Tuberculosis files/TB_Portals_Patient_Cases_January_2023.csv')\n",
    "patients_nig = pd.read_csv('Tuberculosis files/TB_Data_Nigeria.csv')"
   ]
  },
  {
   "cell_type": "code",
   "execution_count": 102,
   "metadata": {},
   "outputs": [
    {
     "name": "stdout",
     "output_type": "stream",
     "text": [
      "Nigeria TB data:\n",
      "\n",
      "   patient_id  registration_date age_of_onset  gender  country employment  \\\n",
      "0  2910220001               2022           83  Female  Nigeria    Retired   \n",
      "1  2910220002               2022           35    Male  Nigeria   Employed   \n",
      "2  2910220003               2022           37  Female  Nigeria   Employed   \n",
      "3  2910220004               2022           35    Male  Nigeria   Employed   \n",
      "4  2910220005               2022           31    Male  Nigeria   Employed   \n",
      "\n",
      "   number_of_daily_contacts case_definition lung_localization  regimen_count  \\\n",
      "0                         0             New         Pulmonary              1   \n",
      "1                         1             New         Pulmonary              1   \n",
      "2                         1             New         Pulmonary              1   \n",
      "3                         1             New         Pulmonary              1   \n",
      "4                         0             New         Pulmonary              1   \n",
      "\n",
      "             outcome           treatment_status  \\\n",
      "0          Completed            Treatment ended   \n",
      "1  Lost to follow up  Patient stopped treatment   \n",
      "2              Cured            Treatment ended   \n",
      "3              Cured            Treatment ended   \n",
      "4          Completed            Treatment ended   \n",
      "\n",
      "                                        regimen_drug comorbidity specimen  \\\n",
      "0    Ethambutol, Isoniazid, Pyrazinamide, Rifampicin        None   Sputum   \n",
      "1  Ethambutol, Isoniazid, Levofloxacin, Pyrazinam...        None   Sputum   \n",
      "2    Ethambutol, Isoniazid, Pyrazinamide, Rifampicin        None   Sputum   \n",
      "3    Ethambutol, Isoniazid, Pyrazinamide, Rifampicin         HIV   Sputum   \n",
      "4    Ethambutol, Isoniazid, Pyrazinamide, Rifampicin        None   Sputum   \n",
      "\n",
      "          ncbi_sourceorganism x_ray_exists diagnosis_code genexpert_test  \\\n",
      "0  Mycobacterium tuberculosis          Yes          A15.0              S   \n",
      "1  Mycobacterium tuberculosis          Yes          A15.0              R   \n",
      "2  Mycobacterium tuberculosis           No          A15.0              R   \n",
      "3  Mycobacterium tuberculosis           No          A15.0              R   \n",
      "4  Mycobacterium tuberculosis           No          A15.0              S   \n",
      "\n",
      "  type_of_resistance  \n",
      "0          Sensitive  \n",
      "1            Mono DR  \n",
      "2          Sensitive  \n",
      "3          Sensitive  \n",
      "4          Sensitive  \n"
     ]
    }
   ],
   "source": [
    "print('Nigeria TB data:\\n')\n",
    "print(patients_nig.head())"
   ]
  },
  {
   "cell_type": "code",
   "execution_count": 103,
   "metadata": {},
   "outputs": [
    {
     "name": "stdout",
     "output_type": "stream",
     "text": [
      "SPECIMEN 2022:\n",
      "\n",
      "                             patient_id                          condition_id  \\\n",
      "0  5cf5df77-2866-44b9-86e4-312ba917ba34  1103c880-f734-4af0-a38a-f0fb3f29b52e   \n",
      "1  3fba0304-be56-4c58-885c-5e2d65f74cd9  ae91abbb-ab04-4798-b3e7-bee2ab6754e8   \n",
      "2  c2adc7fe-f1f2-4a73-a6a5-c4eb1795edc7  1889ac2c-ceb6-4af0-9a46-3c21778ce166   \n",
      "3  4d17e120-5379-4d43-9c98-572d8e963f86  1d8737a1-7196-49eb-b5c8-93aedf916da8   \n",
      "4  5cbb4a40-1d68-470e-81d5-affdd5535f83  6cdf2e97-a087-4735-8bb7-81f357f01e43   \n",
      "\n",
      "                            specimen_id  specimen_identifier  \\\n",
      "0  cd8bc19f-ba31-4436-9ddf-10a9efe1bf91                 6055   \n",
      "1  9749d867-ab65-4962-b082-3819c53c0cf3                17097   \n",
      "2  ac5340a4-7d4b-456a-9fdc-74de7ecbf637                21837   \n",
      "3  a402a08b-88e3-4f47-bd9c-870aa296d768                 6541   \n",
      "4  19ae545c-fb0f-456a-9e6c-a168ab632fed                 8193   \n",
      "\n",
      "  specimen_collection_site  specimen_collection_date  \n",
      "0                   sputum                         2  \n",
      "1                   sputum                         0  \n",
      "2                   sputum                         0  \n",
      "3                   sputum                         0  \n",
      "4                   sputum                         0  \n"
     ]
    }
   ],
   "source": [
    "print('SPECIMEN 2022:\\n')\n",
    "print(specimen_2022.head())"
   ]
  },
  {
   "cell_type": "code",
   "execution_count": 104,
   "metadata": {},
   "outputs": [
    {
     "name": "stdout",
     "output_type": "stream",
     "text": [
      "SPECIMEN 2023:\n",
      "\n",
      "                             patient_id                          condition_id  \\\n",
      "0  00069df2-2406-43b6-8c58-5f5e164c7e35  5016ee38-e166-4460-bbbb-3b8773824a5f   \n",
      "1  000bb53b-8f25-4d5c-9146-fbe84c5316ab  a112409a-cc77-4923-b6e2-dfef53449bde   \n",
      "2  000bb53b-8f25-4d5c-9146-fbe84c5316ab  a112409a-cc77-4923-b6e2-dfef53449bde   \n",
      "3  000bb53b-8f25-4d5c-9146-fbe84c5316ab  a112409a-cc77-4923-b6e2-dfef53449bde   \n",
      "4  0027b572-338f-443e-b281-a0a0a2bbcda1  fc4a8d34-fa79-45af-93fa-7e2b9c290181   \n",
      "\n",
      "                            specimen_id  specimen_identifier  \\\n",
      "0  2a50eb27-7106-4345-9d2d-d888af032317                  280   \n",
      "1  107c7268-28a4-47e7-8074-c890b5f3ab15                19390   \n",
      "2  cc018fb3-779f-4bb7-84ba-ef7ca4056666                19391   \n",
      "3  f08277bb-281d-4c8b-aa10-fbd873fc1ecd                19389   \n",
      "4  04c50e83-efaa-4df2-a38a-fc3e96ed022d                53499   \n",
      "\n",
      "  specimen_collection_site  specimen_collection_date  \n",
      "0                   sputum                         0  \n",
      "1                   sputum                        19  \n",
      "2                   sputum                        67  \n",
      "3                   sputum                         0  \n",
      "4          bronchialLavage                         0  \n"
     ]
    }
   ],
   "source": [
    "print('SPECIMEN 2023:\\n')\n",
    "print(specimen_2023.head())"
   ]
  },
  {
   "cell_type": "code",
   "execution_count": 105,
   "metadata": {},
   "outputs": [
    {
     "name": "stdout",
     "output_type": "stream",
     "text": [
      "REGIMENS 2022:\n",
      "\n",
      "                             patient_id                          condition_id  \\\n",
      "0  00069df2-2406-43b6-8c58-5f5e164c7e35  5016ee38-e166-4460-bbbb-3b8773824a5f   \n",
      "1  000bb53b-8f25-4d5c-9146-fbe84c5316ab  a112409a-cc77-4923-b6e2-dfef53449bde   \n",
      "2  0036983b-7577-487f-83d1-00522ed03ed5  b0f555d7-8ae2-49ec-aa59-37875ee26a2e   \n",
      "3  0036983b-7577-487f-83d1-00522ed03ed5  b0f555d7-8ae2-49ec-aa59-37875ee26a2e   \n",
      "4  0046f70e-395f-40bb-b3a7-57b3fe3e97d1  ff562387-8969-4e27-bdd1-3146f45ea588   \n",
      "\n",
      "   period_start  period_end  period_span        outcome_cd  \\\n",
      "0          62.0       826.0        764.0           failure   \n",
      "1           0.0         NaN          NaN  stillOnTreatment   \n",
      "2           1.0       184.0        183.0             cured   \n",
      "3           1.0       184.0        183.0             cured   \n",
      "4        1052.0      1640.0        588.0         completed   \n",
      "\n",
      "   activities_period_start  activities_period_end activities_statusreason_cd  \\\n",
      "0                     62.0                  826.0                      ended   \n",
      "1                      0.0                    NaN                        NaN   \n",
      "2                      1.0                   63.0               continuation   \n",
      "3                     63.0                  184.0                      ended   \n",
      "4                   1052.0                 1076.0               continuation   \n",
      "\n",
      "                  regimen_drug  dose  collected  reinfusioned  \n",
      "0  {Amx/Clv,Cm,Cs,Mfx,Pas,Pto}   NaN        NaN           NaN  \n",
      "1            {Bdq,Cfz,Lzd,Mfx}   NaN        NaN           NaN  \n",
      "2                    {E,H,R,S}   NaN        NaN           NaN  \n",
      "3                        {H,R}   NaN        NaN           NaN  \n",
      "4       {Cfz,Cs,Lzd,Mfx,Pto,Z}   NaN        NaN           NaN  \n"
     ]
    }
   ],
   "source": [
    "print('REGIMENS 2022:\\n')\n",
    "print(regimens_2022.head())"
   ]
  },
  {
   "cell_type": "code",
   "execution_count": 106,
   "metadata": {},
   "outputs": [
    {
     "name": "stdout",
     "output_type": "stream",
     "text": [
      "REGIMENS 2023:\n",
      "\n",
      "                             patient_id                          condition_id  \\\n",
      "0  00069df2-2406-43b6-8c58-5f5e164c7e35  5016ee38-e166-4460-bbbb-3b8773824a5f   \n",
      "1  000bb53b-8f25-4d5c-9146-fbe84c5316ab  a112409a-cc77-4923-b6e2-dfef53449bde   \n",
      "2  0027b572-338f-443e-b281-a0a0a2bbcda1  fc4a8d34-fa79-45af-93fa-7e2b9c290181   \n",
      "3  0036983b-7577-487f-83d1-00522ed03ed5  b0f555d7-8ae2-49ec-aa59-37875ee26a2e   \n",
      "4  0036983b-7577-487f-83d1-00522ed03ed5  b0f555d7-8ae2-49ec-aa59-37875ee26a2e   \n",
      "\n",
      "   period_start  period_end  period_span        outcome_cd  \\\n",
      "0            62       826.0        764.0           failure   \n",
      "1             0         NaN          NaN  stillOnTreatment   \n",
      "2             3       186.0        183.0         completed   \n",
      "3             1       184.0        183.0             cured   \n",
      "4             1       184.0        183.0             cured   \n",
      "\n",
      "   activities_period_start  activities_period_end activities_statusreason_cd  \\\n",
      "0                       62                  826.0                      ended   \n",
      "1                        0                    NaN                        NaN   \n",
      "2                        3                  186.0                      ended   \n",
      "3                        1                   63.0               continuation   \n",
      "4                       63                  184.0                      ended   \n",
      "\n",
      "                  regimen_drug  dose  collected  reinfusioned  \n",
      "0  {Amx/Clv,Cm,Cs,Mfx,Pas,Pto}   NaN        NaN           NaN  \n",
      "1            {Bdq,Cfz,Lzd,Mfx}   NaN        NaN           NaN  \n",
      "2                    {E,H,R,Z}   NaN        NaN           NaN  \n",
      "3                    {E,H,R,S}   NaN        NaN           NaN  \n",
      "4                        {H,R}   NaN        NaN           NaN  \n"
     ]
    }
   ],
   "source": [
    "print('REGIMENS 2023:\\n')\n",
    "print(regimens_2023.head())"
   ]
  },
  {
   "cell_type": "code",
   "execution_count": 107,
   "metadata": {},
   "outputs": [
    {
     "name": "stdout",
     "output_type": "stream",
     "text": [
      "PATIENTS 2022:\n",
      "\n",
      "                           condition_id                            patient_id  \\\n",
      "0  000e6c76-07b4-43cc-b668-048612911ce4  96f7d990-d005-4ecd-a22d-6d227d86a87d   \n",
      "1  001dc6ee-4925-4505-a4f6-e79d2e31d1cf  6affc79d-54c6-463f-b5af-f1f0e66776c6   \n",
      "2  002cea6e-758b-4e65-b4c4-ae0155a458d8  74aae92e-6a8e-437a-affc-a049f5322676   \n",
      "3  00376922-57ad-47be-9b42-9fa35cfbb1a8  6f8bb80f-1bc8-4e2e-bf6e-b4e3bebc662d   \n",
      "4  003e095a-db07-4abe-b07d-3050fc77f925  79bf51ab-76ea-4bab-a3ab-bef40f1b618e   \n",
      "\n",
      "   identifier  registration_date  age_of_onset  gender  country  \\\n",
      "0        6207               2020            23  Female  Georgia   \n",
      "1        9152               2019            48    Male  Moldova   \n",
      "2        8020               2019            24    Male  Moldova   \n",
      "3        7020               2019            37    Male  Ukraine   \n",
      "4        4195               2019            58    Male  Georgia   \n",
      "\n",
      "                              education  employment  number_of_children  ...  \\\n",
      "0                          Not Reported  Unemployed                 NaN  ...   \n",
      "1  Complete school (a-level, gymnasium)  Unemployed                 0.0  ...   \n",
      "2  Complete school (a-level, gymnasium)    Disabled                 0.0  ...   \n",
      "3                    College (bachelor)  Unemployed                 NaN  ...   \n",
      "4                          Not Reported  Unemployed                 NaN  ...   \n",
      "\n",
      "   qure_abnormal qure_consolidation qure_fibrosis  qure_opacity  \\\n",
      "0   Not Reported       Not Reported  Not Reported  Not Reported   \n",
      "1            Yes                 No            No           Yes   \n",
      "2            Yes                 No            No           Yes   \n",
      "3   Not Reported       Not Reported  Not Reported  Not Reported   \n",
      "4            Yes                 No           Yes           Yes   \n",
      "\n",
      "   qure_peffusion qure_tuberculosis   qure_nodule   qure_cavity  \\\n",
      "0    Not Reported      Not Reported  Not Reported  Not Reported   \n",
      "1              No                No            No            No   \n",
      "2              No               Yes            No            No   \n",
      "3    Not Reported      Not Reported  Not Reported  Not Reported   \n",
      "4              No               Yes            No            No   \n",
      "\n",
      "  qure_hilarlymphadenopathy qure_atelectasis  \n",
      "0              Not Reported     Not Reported  \n",
      "1                        No               No  \n",
      "2                        No               No  \n",
      "3              Not Reported     Not Reported  \n",
      "4                        No               No  \n",
      "\n",
      "[5 rows x 204 columns]\n"
     ]
    }
   ],
   "source": [
    "print('PATIENTS 2022:\\n')\n",
    "print(patients_2022.head())"
   ]
  },
  {
   "cell_type": "code",
   "execution_count": 108,
   "metadata": {},
   "outputs": [],
   "source": [
    "patients_2022_copy = patients_2022.copy()\n",
    "patients_2023_copy = patients_2023.copy()\n",
    "\n",
    "specimens_2022_copy = specimen_2022.copy()\n",
    "specimens_2023_copy = specimen_2022.copy()\n",
    "\n",
    "regimens_2022_copy = regimens_2022.copy()\n",
    "regimens_2023_copy = regimens_2023.copy()\n",
    "\n",
    "patients_nig_copy = patients_nig.copy()"
   ]
  },
  {
   "cell_type": "code",
   "execution_count": 109,
   "metadata": {},
   "outputs": [
    {
     "data": {
      "text/html": [
       "<div>\n",
       "<style scoped>\n",
       "    .dataframe tbody tr th:only-of-type {\n",
       "        vertical-align: middle;\n",
       "    }\n",
       "\n",
       "    .dataframe tbody tr th {\n",
       "        vertical-align: top;\n",
       "    }\n",
       "\n",
       "    .dataframe thead th {\n",
       "        text-align: right;\n",
       "    }\n",
       "</style>\n",
       "<table border=\"1\" class=\"dataframe\">\n",
       "  <thead>\n",
       "    <tr style=\"text-align: right;\">\n",
       "      <th></th>\n",
       "      <th>identifier</th>\n",
       "      <th>registration_date</th>\n",
       "      <th>age_of_onset</th>\n",
       "      <th>number_of_children</th>\n",
       "      <th>number_of_daily_contacts</th>\n",
       "      <th>bmi</th>\n",
       "      <th>x_ray_count</th>\n",
       "      <th>period_start</th>\n",
       "      <th>period_end</th>\n",
       "      <th>period_span</th>\n",
       "      <th>regimen_count</th>\n",
       "    </tr>\n",
       "  </thead>\n",
       "  <tbody>\n",
       "    <tr>\n",
       "      <th>count</th>\n",
       "      <td>6596.000000</td>\n",
       "      <td>6596.000000</td>\n",
       "      <td>6596.000000</td>\n",
       "      <td>3615.000000</td>\n",
       "      <td>4721.000000</td>\n",
       "      <td>5008.000000</td>\n",
       "      <td>6596.000000</td>\n",
       "      <td>6596.000000</td>\n",
       "      <td>5847.000000</td>\n",
       "      <td>5847.000000</td>\n",
       "      <td>6596.000000</td>\n",
       "    </tr>\n",
       "    <tr>\n",
       "      <th>mean</th>\n",
       "      <td>4823.122044</td>\n",
       "      <td>2017.569284</td>\n",
       "      <td>41.965130</td>\n",
       "      <td>0.699032</td>\n",
       "      <td>2.307774</td>\n",
       "      <td>20.729912</td>\n",
       "      <td>1.022438</td>\n",
       "      <td>14.994542</td>\n",
       "      <td>362.419531</td>\n",
       "      <td>357.932786</td>\n",
       "      <td>1.462098</td>\n",
       "    </tr>\n",
       "    <tr>\n",
       "      <th>std</th>\n",
       "      <td>3469.637311</td>\n",
       "      <td>2.697016</td>\n",
       "      <td>14.112115</td>\n",
       "      <td>1.110217</td>\n",
       "      <td>2.141489</td>\n",
       "      <td>3.802571</td>\n",
       "      <td>1.019051</td>\n",
       "      <td>253.122282</td>\n",
       "      <td>291.388671</td>\n",
       "      <td>301.474246</td>\n",
       "      <td>0.911682</td>\n",
       "    </tr>\n",
       "    <tr>\n",
       "      <th>min</th>\n",
       "      <td>1.000000</td>\n",
       "      <td>2008.000000</td>\n",
       "      <td>2.000000</td>\n",
       "      <td>0.000000</td>\n",
       "      <td>0.000000</td>\n",
       "      <td>10.400000</td>\n",
       "      <td>0.000000</td>\n",
       "      <td>-9137.000000</td>\n",
       "      <td>-3249.000000</td>\n",
       "      <td>-102.000000</td>\n",
       "      <td>1.000000</td>\n",
       "    </tr>\n",
       "    <tr>\n",
       "      <th>25%</th>\n",
       "      <td>1603.500000</td>\n",
       "      <td>2016.000000</td>\n",
       "      <td>31.000000</td>\n",
       "      <td>0.000000</td>\n",
       "      <td>1.000000</td>\n",
       "      <td>18.300000</td>\n",
       "      <td>1.000000</td>\n",
       "      <td>0.000000</td>\n",
       "      <td>183.000000</td>\n",
       "      <td>181.000000</td>\n",
       "      <td>1.000000</td>\n",
       "    </tr>\n",
       "    <tr>\n",
       "      <th>50%</th>\n",
       "      <td>4068.500000</td>\n",
       "      <td>2018.000000</td>\n",
       "      <td>41.000000</td>\n",
       "      <td>0.000000</td>\n",
       "      <td>2.000000</td>\n",
       "      <td>20.400000</td>\n",
       "      <td>1.000000</td>\n",
       "      <td>4.000000</td>\n",
       "      <td>277.000000</td>\n",
       "      <td>269.000000</td>\n",
       "      <td>1.000000</td>\n",
       "    </tr>\n",
       "    <tr>\n",
       "      <th>75%</th>\n",
       "      <td>7846.750000</td>\n",
       "      <td>2020.000000</td>\n",
       "      <td>51.000000</td>\n",
       "      <td>1.000000</td>\n",
       "      <td>3.000000</td>\n",
       "      <td>22.600000</td>\n",
       "      <td>1.000000</td>\n",
       "      <td>21.000000</td>\n",
       "      <td>590.000000</td>\n",
       "      <td>566.000000</td>\n",
       "      <td>2.000000</td>\n",
       "    </tr>\n",
       "    <tr>\n",
       "      <th>max</th>\n",
       "      <td>13233.000000</td>\n",
       "      <td>2021.000000</td>\n",
       "      <td>93.000000</td>\n",
       "      <td>9.000000</td>\n",
       "      <td>50.000000</td>\n",
       "      <td>83.900000</td>\n",
       "      <td>16.000000</td>\n",
       "      <td>4096.000000</td>\n",
       "      <td>3398.000000</td>\n",
       "      <td>10242.000000</td>\n",
       "      <td>12.000000</td>\n",
       "    </tr>\n",
       "  </tbody>\n",
       "</table>\n",
       "</div>"
      ],
      "text/plain": [
       "         identifier  registration_date  age_of_onset  number_of_children  \\\n",
       "count   6596.000000        6596.000000   6596.000000         3615.000000   \n",
       "mean    4823.122044        2017.569284     41.965130            0.699032   \n",
       "std     3469.637311           2.697016     14.112115            1.110217   \n",
       "min        1.000000        2008.000000      2.000000            0.000000   \n",
       "25%     1603.500000        2016.000000     31.000000            0.000000   \n",
       "50%     4068.500000        2018.000000     41.000000            0.000000   \n",
       "75%     7846.750000        2020.000000     51.000000            1.000000   \n",
       "max    13233.000000        2021.000000     93.000000            9.000000   \n",
       "\n",
       "       number_of_daily_contacts          bmi  x_ray_count  period_start  \\\n",
       "count               4721.000000  5008.000000  6596.000000   6596.000000   \n",
       "mean                   2.307774    20.729912     1.022438     14.994542   \n",
       "std                    2.141489     3.802571     1.019051    253.122282   \n",
       "min                    0.000000    10.400000     0.000000  -9137.000000   \n",
       "25%                    1.000000    18.300000     1.000000      0.000000   \n",
       "50%                    2.000000    20.400000     1.000000      4.000000   \n",
       "75%                    3.000000    22.600000     1.000000     21.000000   \n",
       "max                   50.000000    83.900000    16.000000   4096.000000   \n",
       "\n",
       "        period_end   period_span  regimen_count  \n",
       "count  5847.000000   5847.000000    6596.000000  \n",
       "mean    362.419531    357.932786       1.462098  \n",
       "std     291.388671    301.474246       0.911682  \n",
       "min   -3249.000000   -102.000000       1.000000  \n",
       "25%     183.000000    181.000000       1.000000  \n",
       "50%     277.000000    269.000000       1.000000  \n",
       "75%     590.000000    566.000000       2.000000  \n",
       "max    3398.000000  10242.000000      12.000000  "
      ]
     },
     "execution_count": 109,
     "metadata": {},
     "output_type": "execute_result"
    }
   ],
   "source": [
    "patients_2022_copy.describe()"
   ]
  },
  {
   "cell_type": "code",
   "execution_count": 110,
   "metadata": {},
   "outputs": [
    {
     "name": "stdout",
     "output_type": "stream",
     "text": [
      "<class 'pandas.core.frame.DataFrame'>\n",
      "RangeIndex: 6596 entries, 0 to 6595\n",
      "Columns: 204 entries, condition_id to qure_atelectasis\n",
      "dtypes: float64(6), int64(5), object(193)\n",
      "memory usage: 10.3+ MB\n"
     ]
    }
   ],
   "source": [
    "patients_2022_copy.info()\n",
    "patients_column_list_2022 = patients_2022.columns.to_list()"
   ]
  },
  {
   "cell_type": "code",
   "execution_count": 111,
   "metadata": {},
   "outputs": [
    {
     "data": {
      "text/html": [
       "<div>\n",
       "<style scoped>\n",
       "    .dataframe tbody tr th:only-of-type {\n",
       "        vertical-align: middle;\n",
       "    }\n",
       "\n",
       "    .dataframe tbody tr th {\n",
       "        vertical-align: top;\n",
       "    }\n",
       "\n",
       "    .dataframe thead th {\n",
       "        text-align: right;\n",
       "    }\n",
       "</style>\n",
       "<table border=\"1\" class=\"dataframe\">\n",
       "  <thead>\n",
       "    <tr style=\"text-align: right;\">\n",
       "      <th></th>\n",
       "      <th>patient_id</th>\n",
       "      <th>identifier</th>\n",
       "      <th>registration_date</th>\n",
       "      <th>age_of_onset</th>\n",
       "      <th>gender</th>\n",
       "      <th>country</th>\n",
       "      <th>education</th>\n",
       "      <th>employment</th>\n",
       "      <th>number_of_children</th>\n",
       "      <th>number_of_daily_contacts</th>\n",
       "      <th>case_definition</th>\n",
       "      <th>diagnosis_code</th>\n",
       "      <th>type_of_resistance</th>\n",
       "      <th>bmi</th>\n",
       "      <th>lung_localization</th>\n",
       "      <th>x_ray_count</th>\n",
       "      <th>status</th>\n",
       "    </tr>\n",
       "  </thead>\n",
       "  <tbody>\n",
       "    <tr>\n",
       "      <th>0</th>\n",
       "      <td>96f7d990-d005-4ecd-a22d-6d227d86a87d</td>\n",
       "      <td>6207</td>\n",
       "      <td>2020</td>\n",
       "      <td>23</td>\n",
       "      <td>Female</td>\n",
       "      <td>Georgia</td>\n",
       "      <td>Not Reported</td>\n",
       "      <td>Unemployed</td>\n",
       "      <td>NaN</td>\n",
       "      <td>NaN</td>\n",
       "      <td>New</td>\n",
       "      <td>A15.0</td>\n",
       "      <td>Sensitive</td>\n",
       "      <td>NaN</td>\n",
       "      <td>Pulmonary</td>\n",
       "      <td>1</td>\n",
       "      <td>final</td>\n",
       "    </tr>\n",
       "    <tr>\n",
       "      <th>1</th>\n",
       "      <td>6affc79d-54c6-463f-b5af-f1f0e66776c6</td>\n",
       "      <td>9152</td>\n",
       "      <td>2019</td>\n",
       "      <td>48</td>\n",
       "      <td>Male</td>\n",
       "      <td>Moldova</td>\n",
       "      <td>Complete school (a-level, gymnasium)</td>\n",
       "      <td>Unemployed</td>\n",
       "      <td>0.0</td>\n",
       "      <td>1.0</td>\n",
       "      <td>New</td>\n",
       "      <td>A15.1</td>\n",
       "      <td>Sensitive</td>\n",
       "      <td>18.6</td>\n",
       "      <td>Pulmonary</td>\n",
       "      <td>1</td>\n",
       "      <td>final</td>\n",
       "    </tr>\n",
       "    <tr>\n",
       "      <th>2</th>\n",
       "      <td>74aae92e-6a8e-437a-affc-a049f5322676</td>\n",
       "      <td>8020</td>\n",
       "      <td>2019</td>\n",
       "      <td>24</td>\n",
       "      <td>Male</td>\n",
       "      <td>Moldova</td>\n",
       "      <td>Complete school (a-level, gymnasium)</td>\n",
       "      <td>Disabled</td>\n",
       "      <td>0.0</td>\n",
       "      <td>1.0</td>\n",
       "      <td>Failure</td>\n",
       "      <td>A15.0</td>\n",
       "      <td>MDR non XDR</td>\n",
       "      <td>24.5</td>\n",
       "      <td>Pulmonary</td>\n",
       "      <td>1</td>\n",
       "      <td>final</td>\n",
       "    </tr>\n",
       "    <tr>\n",
       "      <th>3</th>\n",
       "      <td>6f8bb80f-1bc8-4e2e-bf6e-b4e3bebc662d</td>\n",
       "      <td>7020</td>\n",
       "      <td>2019</td>\n",
       "      <td>37</td>\n",
       "      <td>Male</td>\n",
       "      <td>Ukraine</td>\n",
       "      <td>College (bachelor)</td>\n",
       "      <td>Unemployed</td>\n",
       "      <td>NaN</td>\n",
       "      <td>1.0</td>\n",
       "      <td>Failure</td>\n",
       "      <td>A19.8</td>\n",
       "      <td>XDR</td>\n",
       "      <td>22.3</td>\n",
       "      <td>Pulmonary</td>\n",
       "      <td>1</td>\n",
       "      <td>final</td>\n",
       "    </tr>\n",
       "    <tr>\n",
       "      <th>4</th>\n",
       "      <td>79bf51ab-76ea-4bab-a3ab-bef40f1b618e</td>\n",
       "      <td>4195</td>\n",
       "      <td>2019</td>\n",
       "      <td>58</td>\n",
       "      <td>Male</td>\n",
       "      <td>Georgia</td>\n",
       "      <td>Not Reported</td>\n",
       "      <td>Unemployed</td>\n",
       "      <td>NaN</td>\n",
       "      <td>NaN</td>\n",
       "      <td>New</td>\n",
       "      <td>A15.0</td>\n",
       "      <td>Sensitive</td>\n",
       "      <td>NaN</td>\n",
       "      <td>Pulmonary</td>\n",
       "      <td>1</td>\n",
       "      <td>final</td>\n",
       "    </tr>\n",
       "    <tr>\n",
       "      <th>...</th>\n",
       "      <td>...</td>\n",
       "      <td>...</td>\n",
       "      <td>...</td>\n",
       "      <td>...</td>\n",
       "      <td>...</td>\n",
       "      <td>...</td>\n",
       "      <td>...</td>\n",
       "      <td>...</td>\n",
       "      <td>...</td>\n",
       "      <td>...</td>\n",
       "      <td>...</td>\n",
       "      <td>...</td>\n",
       "      <td>...</td>\n",
       "      <td>...</td>\n",
       "      <td>...</td>\n",
       "      <td>...</td>\n",
       "      <td>...</td>\n",
       "    </tr>\n",
       "    <tr>\n",
       "      <th>6591</th>\n",
       "      <td>00ac6a80-f27f-41c2-8c03-7d86d53d50db</td>\n",
       "      <td>8872</td>\n",
       "      <td>2019</td>\n",
       "      <td>33</td>\n",
       "      <td>Male</td>\n",
       "      <td>Moldova</td>\n",
       "      <td>Complete school (a-level, gymnasium)</td>\n",
       "      <td>Unemployed</td>\n",
       "      <td>2.0</td>\n",
       "      <td>3.0</td>\n",
       "      <td>New</td>\n",
       "      <td>A15.1</td>\n",
       "      <td>Poly DR</td>\n",
       "      <td>16.2</td>\n",
       "      <td>Pulmonary</td>\n",
       "      <td>1</td>\n",
       "      <td>final</td>\n",
       "    </tr>\n",
       "    <tr>\n",
       "      <th>6592</th>\n",
       "      <td>a32e3d5d-4e08-4461-8082-e850b1f7bdfe</td>\n",
       "      <td>9902</td>\n",
       "      <td>2021</td>\n",
       "      <td>17</td>\n",
       "      <td>Male</td>\n",
       "      <td>Ukraine</td>\n",
       "      <td>Basic school (incl. primary)</td>\n",
       "      <td>Unemployed</td>\n",
       "      <td>NaN</td>\n",
       "      <td>NaN</td>\n",
       "      <td>New</td>\n",
       "      <td>A19.8</td>\n",
       "      <td>Sensitive</td>\n",
       "      <td>14.3</td>\n",
       "      <td>Pulmonary</td>\n",
       "      <td>1</td>\n",
       "      <td>final</td>\n",
       "    </tr>\n",
       "    <tr>\n",
       "      <th>6593</th>\n",
       "      <td>8fc2ff48-8480-4630-8552-cd34f5b55770</td>\n",
       "      <td>4433</td>\n",
       "      <td>2019</td>\n",
       "      <td>31</td>\n",
       "      <td>Male</td>\n",
       "      <td>Kazakhstan</td>\n",
       "      <td>Complete school (a-level, gymnasium)</td>\n",
       "      <td>Employed</td>\n",
       "      <td>2.0</td>\n",
       "      <td>3.0</td>\n",
       "      <td>New</td>\n",
       "      <td>A16.0</td>\n",
       "      <td>Mono DR</td>\n",
       "      <td>21.1</td>\n",
       "      <td>Pulmonary</td>\n",
       "      <td>1</td>\n",
       "      <td>final</td>\n",
       "    </tr>\n",
       "    <tr>\n",
       "      <th>6594</th>\n",
       "      <td>5d381970-8df7-4fe9-b527-ce4a9d8c5c44</td>\n",
       "      <td>8908</td>\n",
       "      <td>2020</td>\n",
       "      <td>40</td>\n",
       "      <td>Male</td>\n",
       "      <td>Ukraine</td>\n",
       "      <td>Complete school (a-level, gymnasium)</td>\n",
       "      <td>Unemployed</td>\n",
       "      <td>0.0</td>\n",
       "      <td>1.0</td>\n",
       "      <td>Other</td>\n",
       "      <td>A15.0</td>\n",
       "      <td>Sensitive</td>\n",
       "      <td>19.8</td>\n",
       "      <td>Pulmonary</td>\n",
       "      <td>1</td>\n",
       "      <td>final</td>\n",
       "    </tr>\n",
       "    <tr>\n",
       "      <th>6595</th>\n",
       "      <td>3efbbff9-f475-4d40-9dce-c92aac275f44</td>\n",
       "      <td>8904</td>\n",
       "      <td>2021</td>\n",
       "      <td>44</td>\n",
       "      <td>Male</td>\n",
       "      <td>Ukraine</td>\n",
       "      <td>Complete school (a-level, gymnasium)</td>\n",
       "      <td>Unemployed</td>\n",
       "      <td>2.0</td>\n",
       "      <td>3.0</td>\n",
       "      <td>Chronic TB</td>\n",
       "      <td>A15.0</td>\n",
       "      <td>MDR non XDR</td>\n",
       "      <td>16.7</td>\n",
       "      <td>Pulmonary</td>\n",
       "      <td>1</td>\n",
       "      <td>final</td>\n",
       "    </tr>\n",
       "  </tbody>\n",
       "</table>\n",
       "<p>6596 rows × 17 columns</p>\n",
       "</div>"
      ],
      "text/plain": [
       "                                patient_id  identifier  registration_date  \\\n",
       "0     96f7d990-d005-4ecd-a22d-6d227d86a87d        6207               2020   \n",
       "1     6affc79d-54c6-463f-b5af-f1f0e66776c6        9152               2019   \n",
       "2     74aae92e-6a8e-437a-affc-a049f5322676        8020               2019   \n",
       "3     6f8bb80f-1bc8-4e2e-bf6e-b4e3bebc662d        7020               2019   \n",
       "4     79bf51ab-76ea-4bab-a3ab-bef40f1b618e        4195               2019   \n",
       "...                                    ...         ...                ...   \n",
       "6591  00ac6a80-f27f-41c2-8c03-7d86d53d50db        8872               2019   \n",
       "6592  a32e3d5d-4e08-4461-8082-e850b1f7bdfe        9902               2021   \n",
       "6593  8fc2ff48-8480-4630-8552-cd34f5b55770        4433               2019   \n",
       "6594  5d381970-8df7-4fe9-b527-ce4a9d8c5c44        8908               2020   \n",
       "6595  3efbbff9-f475-4d40-9dce-c92aac275f44        8904               2021   \n",
       "\n",
       "      age_of_onset  gender     country                             education  \\\n",
       "0               23  Female     Georgia                          Not Reported   \n",
       "1               48    Male     Moldova  Complete school (a-level, gymnasium)   \n",
       "2               24    Male     Moldova  Complete school (a-level, gymnasium)   \n",
       "3               37    Male     Ukraine                    College (bachelor)   \n",
       "4               58    Male     Georgia                          Not Reported   \n",
       "...            ...     ...         ...                                   ...   \n",
       "6591            33    Male     Moldova  Complete school (a-level, gymnasium)   \n",
       "6592            17    Male     Ukraine          Basic school (incl. primary)   \n",
       "6593            31    Male  Kazakhstan  Complete school (a-level, gymnasium)   \n",
       "6594            40    Male     Ukraine  Complete school (a-level, gymnasium)   \n",
       "6595            44    Male     Ukraine  Complete school (a-level, gymnasium)   \n",
       "\n",
       "      employment  number_of_children  number_of_daily_contacts  \\\n",
       "0     Unemployed                 NaN                       NaN   \n",
       "1     Unemployed                 0.0                       1.0   \n",
       "2       Disabled                 0.0                       1.0   \n",
       "3     Unemployed                 NaN                       1.0   \n",
       "4     Unemployed                 NaN                       NaN   \n",
       "...          ...                 ...                       ...   \n",
       "6591  Unemployed                 2.0                       3.0   \n",
       "6592  Unemployed                 NaN                       NaN   \n",
       "6593    Employed                 2.0                       3.0   \n",
       "6594  Unemployed                 0.0                       1.0   \n",
       "6595  Unemployed                 2.0                       3.0   \n",
       "\n",
       "     case_definition diagnosis_code type_of_resistance   bmi  \\\n",
       "0                New          A15.0          Sensitive   NaN   \n",
       "1                New          A15.1          Sensitive  18.6   \n",
       "2            Failure          A15.0        MDR non XDR  24.5   \n",
       "3            Failure          A19.8                XDR  22.3   \n",
       "4                New          A15.0          Sensitive   NaN   \n",
       "...              ...            ...                ...   ...   \n",
       "6591             New          A15.1            Poly DR  16.2   \n",
       "6592             New          A19.8          Sensitive  14.3   \n",
       "6593             New          A16.0            Mono DR  21.1   \n",
       "6594           Other          A15.0          Sensitive  19.8   \n",
       "6595      Chronic TB          A15.0        MDR non XDR  16.7   \n",
       "\n",
       "     lung_localization  x_ray_count status  \n",
       "0            Pulmonary            1  final  \n",
       "1            Pulmonary            1  final  \n",
       "2            Pulmonary            1  final  \n",
       "3            Pulmonary            1  final  \n",
       "4            Pulmonary            1  final  \n",
       "...                ...          ...    ...  \n",
       "6591         Pulmonary            1  final  \n",
       "6592         Pulmonary            1  final  \n",
       "6593         Pulmonary            1  final  \n",
       "6594         Pulmonary            1  final  \n",
       "6595         Pulmonary            1  final  \n",
       "\n",
       "[6596 rows x 17 columns]"
      ]
     },
     "execution_count": 111,
     "metadata": {},
     "output_type": "execute_result"
    }
   ],
   "source": [
    "patients_column_list_2022\n",
    "patients_column_list_needed = ['patient_id',\n",
    " 'identifier',\n",
    " 'registration_date',\n",
    " 'age_of_onset',\n",
    " 'gender',\n",
    " 'country',\n",
    " 'education',\n",
    " 'employment',\n",
    " 'number_of_children',\n",
    " 'number_of_daily_contacts',\n",
    " 'case_definition',\n",
    " 'diagnosis_code',\n",
    " 'type_of_resistance',\n",
    " 'bmi',\n",
    " 'lung_localization',\n",
    " 'x_ray_count',\n",
    " 'status']\n",
    "\n",
    "patients_2022_new = patients_2022_copy[patients_column_list_needed]\n",
    "\n",
    "patients_2022_new"
   ]
  },
  {
   "cell_type": "code",
   "execution_count": 112,
   "metadata": {},
   "outputs": [
    {
     "name": "stdout",
     "output_type": "stream",
     "text": [
      "<class 'pandas.core.frame.DataFrame'>\n",
      "RangeIndex: 6596 entries, 0 to 6595\n",
      "Data columns (total 17 columns):\n",
      " #   Column                    Non-Null Count  Dtype  \n",
      "---  ------                    --------------  -----  \n",
      " 0   patient_id                6596 non-null   object \n",
      " 1   identifier                6596 non-null   int64  \n",
      " 2   registration_date         6596 non-null   int64  \n",
      " 3   age_of_onset              6596 non-null   int64  \n",
      " 4   gender                    6596 non-null   object \n",
      " 5   country                   6596 non-null   object \n",
      " 6   education                 6596 non-null   object \n",
      " 7   employment                6596 non-null   object \n",
      " 8   number_of_children        3615 non-null   float64\n",
      " 9   number_of_daily_contacts  4721 non-null   float64\n",
      " 10  case_definition           6596 non-null   object \n",
      " 11  diagnosis_code            6596 non-null   object \n",
      " 12  type_of_resistance        6596 non-null   object \n",
      " 13  bmi                       5008 non-null   float64\n",
      " 14  lung_localization         6596 non-null   object \n",
      " 15  x_ray_count               6596 non-null   int64  \n",
      " 16  status                    6596 non-null   object \n",
      "dtypes: float64(3), int64(4), object(10)\n",
      "memory usage: 876.2+ KB\n"
     ]
    }
   ],
   "source": [
    "patients_2022_new.info()"
   ]
  },
  {
   "cell_type": "code",
   "execution_count": 113,
   "metadata": {},
   "outputs": [
    {
     "name": "stdout",
     "output_type": "stream",
     "text": [
      "<class 'pandas.core.frame.DataFrame'>\n",
      "RangeIndex: 6596 entries, 0 to 6595\n",
      "Data columns (total 17 columns):\n",
      " #   Column                    Non-Null Count  Dtype  \n",
      "---  ------                    --------------  -----  \n",
      " 0   patient_id                6596 non-null   object \n",
      " 1   identifier                6596 non-null   int64  \n",
      " 2   registration_date         6596 non-null   int64  \n",
      " 3   age_of_onset              6596 non-null   int64  \n",
      " 4   gender                    6596 non-null   object \n",
      " 5   country                   6596 non-null   object \n",
      " 6   education                 6596 non-null   object \n",
      " 7   employment                6596 non-null   object \n",
      " 8   number_of_children        6596 non-null   float64\n",
      " 9   number_of_daily_contacts  6596 non-null   float64\n",
      " 10  case_definition           6596 non-null   object \n",
      " 11  diagnosis_code            6596 non-null   object \n",
      " 12  type_of_resistance        6596 non-null   object \n",
      " 13  bmi                       6596 non-null   float64\n",
      " 14  lung_localization         6596 non-null   object \n",
      " 15  x_ray_count               6596 non-null   int64  \n",
      " 16  status                    6596 non-null   object \n",
      "dtypes: float64(3), int64(4), object(10)\n",
      "memory usage: 876.2+ KB\n"
     ]
    },
    {
     "name": "stderr",
     "output_type": "stream",
     "text": [
      "C:\\Users\\oyeni\\AppData\\Local\\Temp\\ipykernel_20796\\3297333353.py:1: SettingWithCopyWarning: \n",
      "A value is trying to be set on a copy of a slice from a DataFrame.\n",
      "Try using .loc[row_indexer,col_indexer] = value instead\n",
      "\n",
      "See the caveats in the documentation: https://pandas.pydata.org/pandas-docs/stable/user_guide/indexing.html#returning-a-view-versus-a-copy\n",
      "  patients_2022_new['number_of_children'] = patients_2022_new['number_of_children'].fillna(patients_2022_new['number_of_children'].sum()/len(patients_2022_new))\n",
      "C:\\Users\\oyeni\\AppData\\Local\\Temp\\ipykernel_20796\\3297333353.py:2: SettingWithCopyWarning: \n",
      "A value is trying to be set on a copy of a slice from a DataFrame.\n",
      "Try using .loc[row_indexer,col_indexer] = value instead\n",
      "\n",
      "See the caveats in the documentation: https://pandas.pydata.org/pandas-docs/stable/user_guide/indexing.html#returning-a-view-versus-a-copy\n",
      "  patients_2022_new['number_of_daily_contacts'] = patients_2022_new['number_of_daily_contacts'].fillna(patients_2022_new['number_of_daily_contacts'].sum()/len(patients_2022_new))\n",
      "C:\\Users\\oyeni\\AppData\\Local\\Temp\\ipykernel_20796\\3297333353.py:3: SettingWithCopyWarning: \n",
      "A value is trying to be set on a copy of a slice from a DataFrame.\n",
      "Try using .loc[row_indexer,col_indexer] = value instead\n",
      "\n",
      "See the caveats in the documentation: https://pandas.pydata.org/pandas-docs/stable/user_guide/indexing.html#returning-a-view-versus-a-copy\n",
      "  patients_2022_new['bmi'] = patients_2022_new['bmi'].fillna(patients_2022_new['bmi'].sum()/len(patients_2022_new))\n"
     ]
    }
   ],
   "source": [
    "patients_2022_new['number_of_children'] = patients_2022_new['number_of_children'].fillna(patients_2022_new['number_of_children'].sum()/len(patients_2022_new))\n",
    "patients_2022_new['number_of_daily_contacts'] = patients_2022_new['number_of_daily_contacts'].fillna(patients_2022_new['number_of_daily_contacts'].sum()/len(patients_2022_new))\n",
    "patients_2022_new['bmi'] = patients_2022_new['bmi'].fillna(patients_2022_new['bmi'].sum()/len(patients_2022_new))\n",
    "\n",
    "patients_2022_new.info()"
   ]
  },
  {
   "cell_type": "code",
   "execution_count": 114,
   "metadata": {},
   "outputs": [
    {
     "data": {
      "text/html": [
       "<div>\n",
       "<style scoped>\n",
       "    .dataframe tbody tr th:only-of-type {\n",
       "        vertical-align: middle;\n",
       "    }\n",
       "\n",
       "    .dataframe tbody tr th {\n",
       "        vertical-align: top;\n",
       "    }\n",
       "\n",
       "    .dataframe thead th {\n",
       "        text-align: right;\n",
       "    }\n",
       "</style>\n",
       "<table border=\"1\" class=\"dataframe\">\n",
       "  <thead>\n",
       "    <tr style=\"text-align: right;\">\n",
       "      <th></th>\n",
       "      <th>patient_id</th>\n",
       "      <th>identifier</th>\n",
       "      <th>registration_date</th>\n",
       "      <th>age_of_onset</th>\n",
       "      <th>gender</th>\n",
       "      <th>country</th>\n",
       "      <th>education</th>\n",
       "      <th>employment</th>\n",
       "      <th>number_of_children</th>\n",
       "      <th>number_of_daily_contacts</th>\n",
       "      <th>case_definition</th>\n",
       "      <th>diagnosis_code</th>\n",
       "      <th>type_of_resistance</th>\n",
       "      <th>bmi</th>\n",
       "      <th>lung_localization</th>\n",
       "      <th>x_ray_count</th>\n",
       "      <th>status</th>\n",
       "    </tr>\n",
       "  </thead>\n",
       "  <tbody>\n",
       "    <tr>\n",
       "      <th>0</th>\n",
       "      <td>3676197e-6bd7-4c41-8bb0-de5889997b32</td>\n",
       "      <td>8277</td>\n",
       "      <td>2019</td>\n",
       "      <td>40</td>\n",
       "      <td>Male</td>\n",
       "      <td>Georgia</td>\n",
       "      <td>Not Reported</td>\n",
       "      <td>Unemployed</td>\n",
       "      <td>NaN</td>\n",
       "      <td>NaN</td>\n",
       "      <td>New</td>\n",
       "      <td>A15.0</td>\n",
       "      <td>Sensitive</td>\n",
       "      <td>NaN</td>\n",
       "      <td>Pulmonary</td>\n",
       "      <td>1</td>\n",
       "      <td>final</td>\n",
       "    </tr>\n",
       "    <tr>\n",
       "      <th>1</th>\n",
       "      <td>96f7d990-d005-4ecd-a22d-6d227d86a87d</td>\n",
       "      <td>6207</td>\n",
       "      <td>2020</td>\n",
       "      <td>23</td>\n",
       "      <td>Female</td>\n",
       "      <td>Georgia</td>\n",
       "      <td>Not Reported</td>\n",
       "      <td>Unemployed</td>\n",
       "      <td>NaN</td>\n",
       "      <td>NaN</td>\n",
       "      <td>New</td>\n",
       "      <td>A15.0</td>\n",
       "      <td>Sensitive</td>\n",
       "      <td>NaN</td>\n",
       "      <td>Pulmonary</td>\n",
       "      <td>1</td>\n",
       "      <td>final</td>\n",
       "    </tr>\n",
       "    <tr>\n",
       "      <th>2</th>\n",
       "      <td>6affc79d-54c6-463f-b5af-f1f0e66776c6</td>\n",
       "      <td>9152</td>\n",
       "      <td>2019</td>\n",
       "      <td>48</td>\n",
       "      <td>Male</td>\n",
       "      <td>Moldova</td>\n",
       "      <td>Complete school (a-level, gymnasium)</td>\n",
       "      <td>Unemployed</td>\n",
       "      <td>0.0</td>\n",
       "      <td>1.0</td>\n",
       "      <td>New</td>\n",
       "      <td>A15.1</td>\n",
       "      <td>Sensitive</td>\n",
       "      <td>18.6</td>\n",
       "      <td>Pulmonary</td>\n",
       "      <td>1</td>\n",
       "      <td>final</td>\n",
       "    </tr>\n",
       "    <tr>\n",
       "      <th>3</th>\n",
       "      <td>74aae92e-6a8e-437a-affc-a049f5322676</td>\n",
       "      <td>8020</td>\n",
       "      <td>2019</td>\n",
       "      <td>24</td>\n",
       "      <td>Male</td>\n",
       "      <td>Moldova</td>\n",
       "      <td>Complete school (a-level, gymnasium)</td>\n",
       "      <td>Disabled</td>\n",
       "      <td>0.0</td>\n",
       "      <td>1.0</td>\n",
       "      <td>Failure</td>\n",
       "      <td>A15.0</td>\n",
       "      <td>MDR non XDR</td>\n",
       "      <td>24.5</td>\n",
       "      <td>Pulmonary</td>\n",
       "      <td>1</td>\n",
       "      <td>final</td>\n",
       "    </tr>\n",
       "    <tr>\n",
       "      <th>4</th>\n",
       "      <td>6f8bb80f-1bc8-4e2e-bf6e-b4e3bebc662d</td>\n",
       "      <td>7020</td>\n",
       "      <td>2019</td>\n",
       "      <td>37</td>\n",
       "      <td>Male</td>\n",
       "      <td>Ukraine</td>\n",
       "      <td>College (bachelor)</td>\n",
       "      <td>Unemployed</td>\n",
       "      <td>NaN</td>\n",
       "      <td>1.0</td>\n",
       "      <td>Failure</td>\n",
       "      <td>A19.8</td>\n",
       "      <td>XDR</td>\n",
       "      <td>22.3</td>\n",
       "      <td>Pulmonary</td>\n",
       "      <td>1</td>\n",
       "      <td>final</td>\n",
       "    </tr>\n",
       "    <tr>\n",
       "      <th>...</th>\n",
       "      <td>...</td>\n",
       "      <td>...</td>\n",
       "      <td>...</td>\n",
       "      <td>...</td>\n",
       "      <td>...</td>\n",
       "      <td>...</td>\n",
       "      <td>...</td>\n",
       "      <td>...</td>\n",
       "      <td>...</td>\n",
       "      <td>...</td>\n",
       "      <td>...</td>\n",
       "      <td>...</td>\n",
       "      <td>...</td>\n",
       "      <td>...</td>\n",
       "      <td>...</td>\n",
       "      <td>...</td>\n",
       "      <td>...</td>\n",
       "    </tr>\n",
       "    <tr>\n",
       "      <th>8812</th>\n",
       "      <td>8fc2ff48-8480-4630-8552-cd34f5b55770</td>\n",
       "      <td>4433</td>\n",
       "      <td>2019</td>\n",
       "      <td>31</td>\n",
       "      <td>Male</td>\n",
       "      <td>Kazakhstan</td>\n",
       "      <td>Complete school (a-level, gymnasium)</td>\n",
       "      <td>Employed</td>\n",
       "      <td>2.0</td>\n",
       "      <td>3.0</td>\n",
       "      <td>New</td>\n",
       "      <td>A16.0</td>\n",
       "      <td>Mono DR</td>\n",
       "      <td>21.1</td>\n",
       "      <td>Pulmonary</td>\n",
       "      <td>1</td>\n",
       "      <td>final</td>\n",
       "    </tr>\n",
       "    <tr>\n",
       "      <th>8813</th>\n",
       "      <td>5d381970-8df7-4fe9-b527-ce4a9d8c5c44</td>\n",
       "      <td>8908</td>\n",
       "      <td>2020</td>\n",
       "      <td>40</td>\n",
       "      <td>Male</td>\n",
       "      <td>Ukraine</td>\n",
       "      <td>Complete school (a-level, gymnasium)</td>\n",
       "      <td>Unemployed</td>\n",
       "      <td>0.0</td>\n",
       "      <td>1.0</td>\n",
       "      <td>Other</td>\n",
       "      <td>A15.0</td>\n",
       "      <td>Sensitive</td>\n",
       "      <td>19.8</td>\n",
       "      <td>Pulmonary</td>\n",
       "      <td>1</td>\n",
       "      <td>final</td>\n",
       "    </tr>\n",
       "    <tr>\n",
       "      <th>8814</th>\n",
       "      <td>b03880ea-a373-4530-9959-657dff0be22d</td>\n",
       "      <td>9446</td>\n",
       "      <td>2021</td>\n",
       "      <td>37</td>\n",
       "      <td>Male</td>\n",
       "      <td>Ukraine</td>\n",
       "      <td>Not Reported</td>\n",
       "      <td>Unemployed</td>\n",
       "      <td>NaN</td>\n",
       "      <td>NaN</td>\n",
       "      <td>New</td>\n",
       "      <td>A15.0</td>\n",
       "      <td>MDR non XDR</td>\n",
       "      <td>23.8</td>\n",
       "      <td>Pulmonary</td>\n",
       "      <td>1</td>\n",
       "      <td>final</td>\n",
       "    </tr>\n",
       "    <tr>\n",
       "      <th>8815</th>\n",
       "      <td>3efbbff9-f475-4d40-9dce-c92aac275f44</td>\n",
       "      <td>8904</td>\n",
       "      <td>2021</td>\n",
       "      <td>44</td>\n",
       "      <td>Male</td>\n",
       "      <td>Ukraine</td>\n",
       "      <td>Complete school (a-level, gymnasium)</td>\n",
       "      <td>Unemployed</td>\n",
       "      <td>2.0</td>\n",
       "      <td>3.0</td>\n",
       "      <td>Chronic TB</td>\n",
       "      <td>A15.0</td>\n",
       "      <td>MDR non XDR</td>\n",
       "      <td>16.7</td>\n",
       "      <td>Pulmonary</td>\n",
       "      <td>1</td>\n",
       "      <td>final</td>\n",
       "    </tr>\n",
       "    <tr>\n",
       "      <th>8816</th>\n",
       "      <td>836350ce-1b7a-4e69-9877-43c3ba1abbfb</td>\n",
       "      <td>8756</td>\n",
       "      <td>2016</td>\n",
       "      <td>65</td>\n",
       "      <td>Male</td>\n",
       "      <td>Ukraine</td>\n",
       "      <td>College (bachelor)</td>\n",
       "      <td>Retired</td>\n",
       "      <td>NaN</td>\n",
       "      <td>1.0</td>\n",
       "      <td>Failure</td>\n",
       "      <td>A19.8</td>\n",
       "      <td>XDR</td>\n",
       "      <td>20.8</td>\n",
       "      <td>Pulmonary</td>\n",
       "      <td>1</td>\n",
       "      <td>final</td>\n",
       "    </tr>\n",
       "  </tbody>\n",
       "</table>\n",
       "<p>8817 rows × 17 columns</p>\n",
       "</div>"
      ],
      "text/plain": [
       "                                patient_id  identifier  registration_date  \\\n",
       "0     3676197e-6bd7-4c41-8bb0-de5889997b32        8277               2019   \n",
       "1     96f7d990-d005-4ecd-a22d-6d227d86a87d        6207               2020   \n",
       "2     6affc79d-54c6-463f-b5af-f1f0e66776c6        9152               2019   \n",
       "3     74aae92e-6a8e-437a-affc-a049f5322676        8020               2019   \n",
       "4     6f8bb80f-1bc8-4e2e-bf6e-b4e3bebc662d        7020               2019   \n",
       "...                                    ...         ...                ...   \n",
       "8812  8fc2ff48-8480-4630-8552-cd34f5b55770        4433               2019   \n",
       "8813  5d381970-8df7-4fe9-b527-ce4a9d8c5c44        8908               2020   \n",
       "8814  b03880ea-a373-4530-9959-657dff0be22d        9446               2021   \n",
       "8815  3efbbff9-f475-4d40-9dce-c92aac275f44        8904               2021   \n",
       "8816  836350ce-1b7a-4e69-9877-43c3ba1abbfb        8756               2016   \n",
       "\n",
       "      age_of_onset  gender     country                             education  \\\n",
       "0               40    Male     Georgia                          Not Reported   \n",
       "1               23  Female     Georgia                          Not Reported   \n",
       "2               48    Male     Moldova  Complete school (a-level, gymnasium)   \n",
       "3               24    Male     Moldova  Complete school (a-level, gymnasium)   \n",
       "4               37    Male     Ukraine                    College (bachelor)   \n",
       "...            ...     ...         ...                                   ...   \n",
       "8812            31    Male  Kazakhstan  Complete school (a-level, gymnasium)   \n",
       "8813            40    Male     Ukraine  Complete school (a-level, gymnasium)   \n",
       "8814            37    Male     Ukraine                          Not Reported   \n",
       "8815            44    Male     Ukraine  Complete school (a-level, gymnasium)   \n",
       "8816            65    Male     Ukraine                    College (bachelor)   \n",
       "\n",
       "      employment  number_of_children  number_of_daily_contacts  \\\n",
       "0     Unemployed                 NaN                       NaN   \n",
       "1     Unemployed                 NaN                       NaN   \n",
       "2     Unemployed                 0.0                       1.0   \n",
       "3       Disabled                 0.0                       1.0   \n",
       "4     Unemployed                 NaN                       1.0   \n",
       "...          ...                 ...                       ...   \n",
       "8812    Employed                 2.0                       3.0   \n",
       "8813  Unemployed                 0.0                       1.0   \n",
       "8814  Unemployed                 NaN                       NaN   \n",
       "8815  Unemployed                 2.0                       3.0   \n",
       "8816     Retired                 NaN                       1.0   \n",
       "\n",
       "     case_definition diagnosis_code type_of_resistance   bmi  \\\n",
       "0                New          A15.0          Sensitive   NaN   \n",
       "1                New          A15.0          Sensitive   NaN   \n",
       "2                New          A15.1          Sensitive  18.6   \n",
       "3            Failure          A15.0        MDR non XDR  24.5   \n",
       "4            Failure          A19.8                XDR  22.3   \n",
       "...              ...            ...                ...   ...   \n",
       "8812             New          A16.0            Mono DR  21.1   \n",
       "8813           Other          A15.0          Sensitive  19.8   \n",
       "8814             New          A15.0        MDR non XDR  23.8   \n",
       "8815      Chronic TB          A15.0        MDR non XDR  16.7   \n",
       "8816         Failure          A19.8                XDR  20.8   \n",
       "\n",
       "     lung_localization  x_ray_count status  \n",
       "0            Pulmonary            1  final  \n",
       "1            Pulmonary            1  final  \n",
       "2            Pulmonary            1  final  \n",
       "3            Pulmonary            1  final  \n",
       "4            Pulmonary            1  final  \n",
       "...                ...          ...    ...  \n",
       "8812         Pulmonary            1  final  \n",
       "8813         Pulmonary            1  final  \n",
       "8814         Pulmonary            1  final  \n",
       "8815         Pulmonary            1  final  \n",
       "8816         Pulmonary            1  final  \n",
       "\n",
       "[8817 rows x 17 columns]"
      ]
     },
     "execution_count": 114,
     "metadata": {},
     "output_type": "execute_result"
    }
   ],
   "source": [
    "patients_2023_new = patients_2023_copy[patients_column_list_needed]\n",
    "\n",
    "patients_2023_new"
   ]
  },
  {
   "cell_type": "code",
   "execution_count": 115,
   "metadata": {},
   "outputs": [
    {
     "name": "stdout",
     "output_type": "stream",
     "text": [
      "<class 'pandas.core.frame.DataFrame'>\n",
      "RangeIndex: 8817 entries, 0 to 8816\n",
      "Data columns (total 17 columns):\n",
      " #   Column                    Non-Null Count  Dtype  \n",
      "---  ------                    --------------  -----  \n",
      " 0   patient_id                8817 non-null   object \n",
      " 1   identifier                8817 non-null   int64  \n",
      " 2   registration_date         8817 non-null   int64  \n",
      " 3   age_of_onset              8817 non-null   int64  \n",
      " 4   gender                    8817 non-null   object \n",
      " 5   country                   8817 non-null   object \n",
      " 6   education                 8817 non-null   object \n",
      " 7   employment                8817 non-null   object \n",
      " 8   number_of_children        4862 non-null   float64\n",
      " 9   number_of_daily_contacts  6051 non-null   float64\n",
      " 10  case_definition           8817 non-null   object \n",
      " 11  diagnosis_code            8817 non-null   object \n",
      " 12  type_of_resistance        8817 non-null   object \n",
      " 13  bmi                       6633 non-null   float64\n",
      " 14  lung_localization         8817 non-null   object \n",
      " 15  x_ray_count               8817 non-null   int64  \n",
      " 16  status                    8817 non-null   object \n",
      "dtypes: float64(3), int64(4), object(10)\n",
      "memory usage: 1.1+ MB\n"
     ]
    }
   ],
   "source": [
    "patients_2023_new.info()"
   ]
  },
  {
   "cell_type": "code",
   "execution_count": 116,
   "metadata": {},
   "outputs": [
    {
     "name": "stdout",
     "output_type": "stream",
     "text": [
      "<class 'pandas.core.frame.DataFrame'>\n",
      "RangeIndex: 8817 entries, 0 to 8816\n",
      "Data columns (total 17 columns):\n",
      " #   Column                    Non-Null Count  Dtype  \n",
      "---  ------                    --------------  -----  \n",
      " 0   patient_id                8817 non-null   object \n",
      " 1   identifier                8817 non-null   int64  \n",
      " 2   registration_date         8817 non-null   int64  \n",
      " 3   age_of_onset              8817 non-null   int64  \n",
      " 4   gender                    8817 non-null   object \n",
      " 5   country                   8817 non-null   object \n",
      " 6   education                 8817 non-null   object \n",
      " 7   employment                8817 non-null   object \n",
      " 8   number_of_children        8817 non-null   float64\n",
      " 9   number_of_daily_contacts  8817 non-null   float64\n",
      " 10  case_definition           8817 non-null   object \n",
      " 11  diagnosis_code            8817 non-null   object \n",
      " 12  type_of_resistance        8817 non-null   object \n",
      " 13  bmi                       8817 non-null   float64\n",
      " 14  lung_localization         8817 non-null   object \n",
      " 15  x_ray_count               8817 non-null   int64  \n",
      " 16  status                    8817 non-null   object \n",
      "dtypes: float64(3), int64(4), object(10)\n",
      "memory usage: 1.1+ MB\n"
     ]
    },
    {
     "name": "stderr",
     "output_type": "stream",
     "text": [
      "C:\\Users\\oyeni\\AppData\\Local\\Temp\\ipykernel_20796\\885934203.py:1: SettingWithCopyWarning: \n",
      "A value is trying to be set on a copy of a slice from a DataFrame.\n",
      "Try using .loc[row_indexer,col_indexer] = value instead\n",
      "\n",
      "See the caveats in the documentation: https://pandas.pydata.org/pandas-docs/stable/user_guide/indexing.html#returning-a-view-versus-a-copy\n",
      "  patients_2023_new['number_of_children'] = patients_2023_new['number_of_children'].fillna(patients_2023_new['number_of_children'].sum()/len(patients_2023_new))\n",
      "C:\\Users\\oyeni\\AppData\\Local\\Temp\\ipykernel_20796\\885934203.py:2: SettingWithCopyWarning: \n",
      "A value is trying to be set on a copy of a slice from a DataFrame.\n",
      "Try using .loc[row_indexer,col_indexer] = value instead\n",
      "\n",
      "See the caveats in the documentation: https://pandas.pydata.org/pandas-docs/stable/user_guide/indexing.html#returning-a-view-versus-a-copy\n",
      "  patients_2023_new['number_of_daily_contacts'] = patients_2023_new['number_of_daily_contacts'].fillna(patients_2023_new['number_of_daily_contacts'].sum()/len(patients_2023_new))\n",
      "C:\\Users\\oyeni\\AppData\\Local\\Temp\\ipykernel_20796\\885934203.py:3: SettingWithCopyWarning: \n",
      "A value is trying to be set on a copy of a slice from a DataFrame.\n",
      "Try using .loc[row_indexer,col_indexer] = value instead\n",
      "\n",
      "See the caveats in the documentation: https://pandas.pydata.org/pandas-docs/stable/user_guide/indexing.html#returning-a-view-versus-a-copy\n",
      "  patients_2023_new['bmi'] = patients_2023_new['bmi'].fillna(patients_2023_new['bmi'].sum()/len(patients_2023_new))\n"
     ]
    }
   ],
   "source": [
    "patients_2023_new['number_of_children'] = patients_2023_new['number_of_children'].fillna(patients_2023_new['number_of_children'].sum()/len(patients_2023_new))\n",
    "patients_2023_new['number_of_daily_contacts'] = patients_2023_new['number_of_daily_contacts'].fillna(patients_2023_new['number_of_daily_contacts'].sum()/len(patients_2023_new))\n",
    "patients_2023_new['bmi'] = patients_2023_new['bmi'].fillna(patients_2023_new['bmi'].sum()/len(patients_2023_new))\n",
    "\n",
    "patients_2023_new.info()"
   ]
  },
  {
   "cell_type": "code",
   "execution_count": 117,
   "metadata": {},
   "outputs": [
    {
     "name": "stdout",
     "output_type": "stream",
     "text": [
      "<class 'pandas.core.frame.DataFrame'>\n",
      "RangeIndex: 9644 entries, 0 to 9643\n",
      "Data columns (total 13 columns):\n",
      " #   Column                      Non-Null Count  Dtype  \n",
      "---  ------                      --------------  -----  \n",
      " 0   patient_id                  9644 non-null   object \n",
      " 1   condition_id                9644 non-null   object \n",
      " 2   period_start                9644 non-null   float64\n",
      " 3   period_end                  8677 non-null   float64\n",
      " 4   period_span                 8677 non-null   float64\n",
      " 5   outcome_cd                  9643 non-null   object \n",
      " 6   activities_period_start     9644 non-null   float64\n",
      " 7   activities_period_end       8896 non-null   float64\n",
      " 8   activities_statusreason_cd  7382 non-null   object \n",
      " 9   regimen_drug                9644 non-null   object \n",
      " 10  dose                        30 non-null     float64\n",
      " 11  collected                   30 non-null     float64\n",
      " 12  reinfusioned                30 non-null     float64\n",
      "dtypes: float64(8), object(5)\n",
      "memory usage: 979.6+ KB\n"
     ]
    }
   ],
   "source": [
    "regimens_2022_copy.info()\n",
    "regimens_column_list_2022 = regimens_2022.columns.to_list()"
   ]
  },
  {
   "cell_type": "code",
   "execution_count": 118,
   "metadata": {},
   "outputs": [
    {
     "data": {
      "text/html": [
       "<div>\n",
       "<style scoped>\n",
       "    .dataframe tbody tr th:only-of-type {\n",
       "        vertical-align: middle;\n",
       "    }\n",
       "\n",
       "    .dataframe tbody tr th {\n",
       "        vertical-align: top;\n",
       "    }\n",
       "\n",
       "    .dataframe thead th {\n",
       "        text-align: right;\n",
       "    }\n",
       "</style>\n",
       "<table border=\"1\" class=\"dataframe\">\n",
       "  <thead>\n",
       "    <tr style=\"text-align: right;\">\n",
       "      <th></th>\n",
       "      <th>patient_id</th>\n",
       "      <th>condition_id</th>\n",
       "      <th>period_span</th>\n",
       "      <th>outcome_cd</th>\n",
       "    </tr>\n",
       "  </thead>\n",
       "  <tbody>\n",
       "    <tr>\n",
       "      <th>0</th>\n",
       "      <td>00069df2-2406-43b6-8c58-5f5e164c7e35</td>\n",
       "      <td>5016ee38-e166-4460-bbbb-3b8773824a5f</td>\n",
       "      <td>764.0</td>\n",
       "      <td>failure</td>\n",
       "    </tr>\n",
       "    <tr>\n",
       "      <th>1</th>\n",
       "      <td>000bb53b-8f25-4d5c-9146-fbe84c5316ab</td>\n",
       "      <td>a112409a-cc77-4923-b6e2-dfef53449bde</td>\n",
       "      <td>NaN</td>\n",
       "      <td>stillOnTreatment</td>\n",
       "    </tr>\n",
       "    <tr>\n",
       "      <th>2</th>\n",
       "      <td>0036983b-7577-487f-83d1-00522ed03ed5</td>\n",
       "      <td>b0f555d7-8ae2-49ec-aa59-37875ee26a2e</td>\n",
       "      <td>183.0</td>\n",
       "      <td>cured</td>\n",
       "    </tr>\n",
       "    <tr>\n",
       "      <th>3</th>\n",
       "      <td>0036983b-7577-487f-83d1-00522ed03ed5</td>\n",
       "      <td>b0f555d7-8ae2-49ec-aa59-37875ee26a2e</td>\n",
       "      <td>183.0</td>\n",
       "      <td>cured</td>\n",
       "    </tr>\n",
       "    <tr>\n",
       "      <th>4</th>\n",
       "      <td>0046f70e-395f-40bb-b3a7-57b3fe3e97d1</td>\n",
       "      <td>ff562387-8969-4e27-bdd1-3146f45ea588</td>\n",
       "      <td>588.0</td>\n",
       "      <td>completed</td>\n",
       "    </tr>\n",
       "    <tr>\n",
       "      <th>...</th>\n",
       "      <td>...</td>\n",
       "      <td>...</td>\n",
       "      <td>...</td>\n",
       "      <td>...</td>\n",
       "    </tr>\n",
       "    <tr>\n",
       "      <th>9639</th>\n",
       "      <td>ffcdbf6f-53a3-453a-9582-8725ed4234f3</td>\n",
       "      <td>239bdca1-a72e-4ecb-a9d9-97900dfd1759</td>\n",
       "      <td>609.0</td>\n",
       "      <td>completed</td>\n",
       "    </tr>\n",
       "    <tr>\n",
       "      <th>9640</th>\n",
       "      <td>ffd914a0-89dd-4a7e-a959-0342b3c43e20</td>\n",
       "      <td>38d66fbf-f2cf-49a8-9091-c76600af364b</td>\n",
       "      <td>188.0</td>\n",
       "      <td>failure</td>\n",
       "    </tr>\n",
       "    <tr>\n",
       "      <th>9641</th>\n",
       "      <td>ffdf3b67-bba2-4d0b-937d-fae6b75d4f63</td>\n",
       "      <td>a1aa80b9-bb80-40ef-9136-4fcc0580795f</td>\n",
       "      <td>278.0</td>\n",
       "      <td>completed</td>\n",
       "    </tr>\n",
       "    <tr>\n",
       "      <th>9642</th>\n",
       "      <td>fff9f70e-2738-43c9-b42d-0c2139da52b9</td>\n",
       "      <td>728694fa-f21a-4055-b1f1-1580b1a9cf8a</td>\n",
       "      <td>38.0</td>\n",
       "      <td>died</td>\n",
       "    </tr>\n",
       "    <tr>\n",
       "      <th>9643</th>\n",
       "      <td>ffffbdd3-0d0c-482f-af34-e2df5e38a7e9</td>\n",
       "      <td>4480aea9-3290-4307-ad50-39a5e2622ad8</td>\n",
       "      <td>552.0</td>\n",
       "      <td>failure</td>\n",
       "    </tr>\n",
       "  </tbody>\n",
       "</table>\n",
       "<p>9644 rows × 4 columns</p>\n",
       "</div>"
      ],
      "text/plain": [
       "                                patient_id  \\\n",
       "0     00069df2-2406-43b6-8c58-5f5e164c7e35   \n",
       "1     000bb53b-8f25-4d5c-9146-fbe84c5316ab   \n",
       "2     0036983b-7577-487f-83d1-00522ed03ed5   \n",
       "3     0036983b-7577-487f-83d1-00522ed03ed5   \n",
       "4     0046f70e-395f-40bb-b3a7-57b3fe3e97d1   \n",
       "...                                    ...   \n",
       "9639  ffcdbf6f-53a3-453a-9582-8725ed4234f3   \n",
       "9640  ffd914a0-89dd-4a7e-a959-0342b3c43e20   \n",
       "9641  ffdf3b67-bba2-4d0b-937d-fae6b75d4f63   \n",
       "9642  fff9f70e-2738-43c9-b42d-0c2139da52b9   \n",
       "9643  ffffbdd3-0d0c-482f-af34-e2df5e38a7e9   \n",
       "\n",
       "                              condition_id  period_span        outcome_cd  \n",
       "0     5016ee38-e166-4460-bbbb-3b8773824a5f        764.0           failure  \n",
       "1     a112409a-cc77-4923-b6e2-dfef53449bde          NaN  stillOnTreatment  \n",
       "2     b0f555d7-8ae2-49ec-aa59-37875ee26a2e        183.0             cured  \n",
       "3     b0f555d7-8ae2-49ec-aa59-37875ee26a2e        183.0             cured  \n",
       "4     ff562387-8969-4e27-bdd1-3146f45ea588        588.0         completed  \n",
       "...                                    ...          ...               ...  \n",
       "9639  239bdca1-a72e-4ecb-a9d9-97900dfd1759        609.0         completed  \n",
       "9640  38d66fbf-f2cf-49a8-9091-c76600af364b        188.0           failure  \n",
       "9641  a1aa80b9-bb80-40ef-9136-4fcc0580795f        278.0         completed  \n",
       "9642  728694fa-f21a-4055-b1f1-1580b1a9cf8a         38.0              died  \n",
       "9643  4480aea9-3290-4307-ad50-39a5e2622ad8        552.0           failure  \n",
       "\n",
       "[9644 rows x 4 columns]"
      ]
     },
     "execution_count": 118,
     "metadata": {},
     "output_type": "execute_result"
    }
   ],
   "source": [
    "regimens_column_list_2022\n",
    "regimens_column_list_needed = ['patient_id',\n",
    " 'condition_id',\n",
    " 'period_span',\n",
    " 'outcome_cd']\n",
    "\n",
    "regimens_2022_new = regimens_2022_copy[regimens_column_list_needed]\n",
    "\n",
    "regimens_2022_new"
   ]
  },
  {
   "cell_type": "code",
   "execution_count": 119,
   "metadata": {},
   "outputs": [
    {
     "name": "stderr",
     "output_type": "stream",
     "text": [
      "C:\\Users\\oyeni\\AppData\\Local\\Temp\\ipykernel_20796\\3917202655.py:1: SettingWithCopyWarning: \n",
      "A value is trying to be set on a copy of a slice from a DataFrame\n",
      "\n",
      "See the caveats in the documentation: https://pandas.pydata.org/pandas-docs/stable/user_guide/indexing.html#returning-a-view-versus-a-copy\n",
      "  regimens_2022_new.fillna(0,inplace=True)\n"
     ]
    }
   ],
   "source": [
    "regimens_2022_new.fillna(0,inplace=True)"
   ]
  },
  {
   "cell_type": "code",
   "execution_count": 120,
   "metadata": {},
   "outputs": [
    {
     "name": "stdout",
     "output_type": "stream",
     "text": [
      "<class 'pandas.core.frame.DataFrame'>\n",
      "RangeIndex: 9644 entries, 0 to 9643\n",
      "Data columns (total 4 columns):\n",
      " #   Column        Non-Null Count  Dtype  \n",
      "---  ------        --------------  -----  \n",
      " 0   patient_id    9644 non-null   object \n",
      " 1   condition_id  9644 non-null   object \n",
      " 2   period_span   9644 non-null   float64\n",
      " 3   outcome_cd    9644 non-null   object \n",
      "dtypes: float64(1), object(3)\n",
      "memory usage: 301.5+ KB\n"
     ]
    }
   ],
   "source": [
    "regimens_2022_new.info()"
   ]
  },
  {
   "cell_type": "code",
   "execution_count": 121,
   "metadata": {},
   "outputs": [
    {
     "data": {
      "text/html": [
       "<div>\n",
       "<style scoped>\n",
       "    .dataframe tbody tr th:only-of-type {\n",
       "        vertical-align: middle;\n",
       "    }\n",
       "\n",
       "    .dataframe tbody tr th {\n",
       "        vertical-align: top;\n",
       "    }\n",
       "\n",
       "    .dataframe thead th {\n",
       "        text-align: right;\n",
       "    }\n",
       "</style>\n",
       "<table border=\"1\" class=\"dataframe\">\n",
       "  <thead>\n",
       "    <tr style=\"text-align: right;\">\n",
       "      <th></th>\n",
       "      <th>patient_id</th>\n",
       "      <th>condition_id</th>\n",
       "      <th>period_span</th>\n",
       "      <th>outcome_cd</th>\n",
       "    </tr>\n",
       "  </thead>\n",
       "  <tbody>\n",
       "    <tr>\n",
       "      <th>0</th>\n",
       "      <td>00069df2-2406-43b6-8c58-5f5e164c7e35</td>\n",
       "      <td>5016ee38-e166-4460-bbbb-3b8773824a5f</td>\n",
       "      <td>764.0</td>\n",
       "      <td>failure</td>\n",
       "    </tr>\n",
       "    <tr>\n",
       "      <th>1</th>\n",
       "      <td>000bb53b-8f25-4d5c-9146-fbe84c5316ab</td>\n",
       "      <td>a112409a-cc77-4923-b6e2-dfef53449bde</td>\n",
       "      <td>NaN</td>\n",
       "      <td>stillOnTreatment</td>\n",
       "    </tr>\n",
       "    <tr>\n",
       "      <th>2</th>\n",
       "      <td>0027b572-338f-443e-b281-a0a0a2bbcda1</td>\n",
       "      <td>fc4a8d34-fa79-45af-93fa-7e2b9c290181</td>\n",
       "      <td>183.0</td>\n",
       "      <td>completed</td>\n",
       "    </tr>\n",
       "    <tr>\n",
       "      <th>3</th>\n",
       "      <td>0036983b-7577-487f-83d1-00522ed03ed5</td>\n",
       "      <td>b0f555d7-8ae2-49ec-aa59-37875ee26a2e</td>\n",
       "      <td>183.0</td>\n",
       "      <td>cured</td>\n",
       "    </tr>\n",
       "    <tr>\n",
       "      <th>4</th>\n",
       "      <td>0036983b-7577-487f-83d1-00522ed03ed5</td>\n",
       "      <td>b0f555d7-8ae2-49ec-aa59-37875ee26a2e</td>\n",
       "      <td>183.0</td>\n",
       "      <td>cured</td>\n",
       "    </tr>\n",
       "    <tr>\n",
       "      <th>...</th>\n",
       "      <td>...</td>\n",
       "      <td>...</td>\n",
       "      <td>...</td>\n",
       "      <td>...</td>\n",
       "    </tr>\n",
       "    <tr>\n",
       "      <th>12780</th>\n",
       "      <td>fffe1c1a-2b9d-4fcd-83bf-9eb4a7ee81aa</td>\n",
       "      <td>3ff582c1-3548-466f-8a2d-cb6df7fe31ad</td>\n",
       "      <td>583.0</td>\n",
       "      <td>cured</td>\n",
       "    </tr>\n",
       "    <tr>\n",
       "      <th>12781</th>\n",
       "      <td>fffe1c1a-2b9d-4fcd-83bf-9eb4a7ee81aa</td>\n",
       "      <td>3ff582c1-3548-466f-8a2d-cb6df7fe31ad</td>\n",
       "      <td>583.0</td>\n",
       "      <td>cured</td>\n",
       "    </tr>\n",
       "    <tr>\n",
       "      <th>12782</th>\n",
       "      <td>fffe1c1a-2b9d-4fcd-83bf-9eb4a7ee81aa</td>\n",
       "      <td>3ff582c1-3548-466f-8a2d-cb6df7fe31ad</td>\n",
       "      <td>583.0</td>\n",
       "      <td>cured</td>\n",
       "    </tr>\n",
       "    <tr>\n",
       "      <th>12783</th>\n",
       "      <td>ffff7e78-14af-415a-8f2e-82ae35e9f499</td>\n",
       "      <td>d593d898-ba1e-4b8d-8f3c-95129253b01b</td>\n",
       "      <td>272.0</td>\n",
       "      <td>cured</td>\n",
       "    </tr>\n",
       "    <tr>\n",
       "      <th>12784</th>\n",
       "      <td>ffffbdd3-0d0c-482f-af34-e2df5e38a7e9</td>\n",
       "      <td>4480aea9-3290-4307-ad50-39a5e2622ad8</td>\n",
       "      <td>552.0</td>\n",
       "      <td>failure</td>\n",
       "    </tr>\n",
       "  </tbody>\n",
       "</table>\n",
       "<p>12785 rows × 4 columns</p>\n",
       "</div>"
      ],
      "text/plain": [
       "                                 patient_id  \\\n",
       "0      00069df2-2406-43b6-8c58-5f5e164c7e35   \n",
       "1      000bb53b-8f25-4d5c-9146-fbe84c5316ab   \n",
       "2      0027b572-338f-443e-b281-a0a0a2bbcda1   \n",
       "3      0036983b-7577-487f-83d1-00522ed03ed5   \n",
       "4      0036983b-7577-487f-83d1-00522ed03ed5   \n",
       "...                                     ...   \n",
       "12780  fffe1c1a-2b9d-4fcd-83bf-9eb4a7ee81aa   \n",
       "12781  fffe1c1a-2b9d-4fcd-83bf-9eb4a7ee81aa   \n",
       "12782  fffe1c1a-2b9d-4fcd-83bf-9eb4a7ee81aa   \n",
       "12783  ffff7e78-14af-415a-8f2e-82ae35e9f499   \n",
       "12784  ffffbdd3-0d0c-482f-af34-e2df5e38a7e9   \n",
       "\n",
       "                               condition_id  period_span        outcome_cd  \n",
       "0      5016ee38-e166-4460-bbbb-3b8773824a5f        764.0           failure  \n",
       "1      a112409a-cc77-4923-b6e2-dfef53449bde          NaN  stillOnTreatment  \n",
       "2      fc4a8d34-fa79-45af-93fa-7e2b9c290181        183.0         completed  \n",
       "3      b0f555d7-8ae2-49ec-aa59-37875ee26a2e        183.0             cured  \n",
       "4      b0f555d7-8ae2-49ec-aa59-37875ee26a2e        183.0             cured  \n",
       "...                                     ...          ...               ...  \n",
       "12780  3ff582c1-3548-466f-8a2d-cb6df7fe31ad        583.0             cured  \n",
       "12781  3ff582c1-3548-466f-8a2d-cb6df7fe31ad        583.0             cured  \n",
       "12782  3ff582c1-3548-466f-8a2d-cb6df7fe31ad        583.0             cured  \n",
       "12783  d593d898-ba1e-4b8d-8f3c-95129253b01b        272.0             cured  \n",
       "12784  4480aea9-3290-4307-ad50-39a5e2622ad8        552.0           failure  \n",
       "\n",
       "[12785 rows x 4 columns]"
      ]
     },
     "execution_count": 121,
     "metadata": {},
     "output_type": "execute_result"
    }
   ],
   "source": [
    "regimens_2023_new = regimens_2023_copy[regimens_column_list_needed]\n",
    "\n",
    "regimens_2023_new"
   ]
  },
  {
   "cell_type": "code",
   "execution_count": 122,
   "metadata": {},
   "outputs": [
    {
     "name": "stderr",
     "output_type": "stream",
     "text": [
      "C:\\Users\\oyeni\\AppData\\Local\\Temp\\ipykernel_20796\\3115858346.py:1: SettingWithCopyWarning: \n",
      "A value is trying to be set on a copy of a slice from a DataFrame\n",
      "\n",
      "See the caveats in the documentation: https://pandas.pydata.org/pandas-docs/stable/user_guide/indexing.html#returning-a-view-versus-a-copy\n",
      "  regimens_2023_new.fillna(0,inplace=True)\n"
     ]
    }
   ],
   "source": [
    "regimens_2023_new.fillna(0,inplace=True)"
   ]
  },
  {
   "cell_type": "code",
   "execution_count": 123,
   "metadata": {},
   "outputs": [
    {
     "name": "stdout",
     "output_type": "stream",
     "text": [
      "<class 'pandas.core.frame.DataFrame'>\n",
      "RangeIndex: 12785 entries, 0 to 12784\n",
      "Data columns (total 4 columns):\n",
      " #   Column        Non-Null Count  Dtype  \n",
      "---  ------        --------------  -----  \n",
      " 0   patient_id    12785 non-null  object \n",
      " 1   condition_id  12785 non-null  object \n",
      " 2   period_span   12785 non-null  float64\n",
      " 3   outcome_cd    12785 non-null  object \n",
      "dtypes: float64(1), object(3)\n",
      "memory usage: 399.7+ KB\n"
     ]
    }
   ],
   "source": [
    "regimens_2023_new.info()"
   ]
  },
  {
   "cell_type": "code",
   "execution_count": 124,
   "metadata": {},
   "outputs": [
    {
     "name": "stdout",
     "output_type": "stream",
     "text": [
      "<class 'pandas.core.frame.DataFrame'>\n",
      "RangeIndex: 253 entries, 0 to 252\n",
      "Data columns (total 20 columns):\n",
      " #   Column                    Non-Null Count  Dtype \n",
      "---  ------                    --------------  ----- \n",
      " 0   patient_id                253 non-null    int64 \n",
      " 1   registration_date         253 non-null    int64 \n",
      " 2   age_of_onset              253 non-null    object\n",
      " 3   gender                    253 non-null    object\n",
      " 4   country                   253 non-null    object\n",
      " 5   employment                253 non-null    object\n",
      " 6   number_of_daily_contacts  253 non-null    int64 \n",
      " 7   case_definition           253 non-null    object\n",
      " 8   lung_localization         253 non-null    object\n",
      " 9   regimen_count             253 non-null    int64 \n",
      " 10  outcome                   253 non-null    object\n",
      " 11  treatment_status          246 non-null    object\n",
      " 12  regimen_drug              253 non-null    object\n",
      " 13  comorbidity               253 non-null    object\n",
      " 14  specimen                  253 non-null    object\n",
      " 15  ncbi_sourceorganism       253 non-null    object\n",
      " 16  x_ray_exists              253 non-null    object\n",
      " 17  diagnosis_code            253 non-null    object\n",
      " 18  genexpert_test            253 non-null    object\n",
      " 19  type_of_resistance        253 non-null    object\n",
      "dtypes: int64(4), object(16)\n",
      "memory usage: 39.7+ KB\n"
     ]
    }
   ],
   "source": [
    "patients_nig.info()"
   ]
  },
  {
   "cell_type": "code",
   "execution_count": 125,
   "metadata": {},
   "outputs": [],
   "source": [
    "patients_total_2022 = pd.merge(patients_2022_new, regimens_2022_new, on='patient_id')"
   ]
  },
  {
   "cell_type": "code",
   "execution_count": 126,
   "metadata": {},
   "outputs": [
    {
     "name": "stdout",
     "output_type": "stream",
     "text": [
      "<class 'pandas.core.frame.DataFrame'>\n",
      "Int64Index: 10097 entries, 0 to 10096\n",
      "Data columns (total 20 columns):\n",
      " #   Column                    Non-Null Count  Dtype  \n",
      "---  ------                    --------------  -----  \n",
      " 0   patient_id                10097 non-null  object \n",
      " 1   identifier                10097 non-null  int64  \n",
      " 2   registration_date         10097 non-null  int64  \n",
      " 3   age_of_onset              10097 non-null  int64  \n",
      " 4   gender                    10097 non-null  object \n",
      " 5   country                   10097 non-null  object \n",
      " 6   education                 10097 non-null  object \n",
      " 7   employment                10097 non-null  object \n",
      " 8   number_of_children        10097 non-null  float64\n",
      " 9   number_of_daily_contacts  10097 non-null  float64\n",
      " 10  case_definition           10097 non-null  object \n",
      " 11  diagnosis_code            10097 non-null  object \n",
      " 12  type_of_resistance        10097 non-null  object \n",
      " 13  bmi                       10097 non-null  float64\n",
      " 14  lung_localization         10097 non-null  object \n",
      " 15  x_ray_count               10097 non-null  int64  \n",
      " 16  status                    10097 non-null  object \n",
      " 17  condition_id              10097 non-null  object \n",
      " 18  period_span               10097 non-null  float64\n",
      " 19  outcome_cd                10097 non-null  object \n",
      "dtypes: float64(4), int64(4), object(12)\n",
      "memory usage: 1.6+ MB\n"
     ]
    }
   ],
   "source": [
    "patients_total_2022.info()"
   ]
  },
  {
   "cell_type": "code",
   "execution_count": 127,
   "metadata": {},
   "outputs": [
    {
     "data": {
      "text/plain": [
       "array(['cured', 'ltfu', 'completed', 'died', 'stillOnTreatment',\n",
       "       'failure', 'palliativeCare', 'unknown', 0], dtype=object)"
      ]
     },
     "execution_count": 127,
     "metadata": {},
     "output_type": "execute_result"
    }
   ],
   "source": [
    "patients_total_2022['outcome_cd'].unique()"
   ]
  },
  {
   "cell_type": "code",
   "execution_count": 128,
   "metadata": {},
   "outputs": [
    {
     "data": {
      "text/plain": [
       "<AxesSubplot: ylabel='gender'>"
      ]
     },
     "execution_count": 128,
     "metadata": {},
     "output_type": "execute_result"
    },
    {
     "data": {
      "image/png": "[encoded data removed]",
      "text/plain": [
       "<Figure size 640x480 with 1 Axes>"
      ]
     },
     "metadata": {},
     "output_type": "display_data"
    }
   ],
   "source": [
    "patients_total_2022.groupby(['gender'])['gender'].count().plot(kind='pie')"
   ]
  },
  {
   "cell_type": "code",
   "execution_count": 129,
   "metadata": {},
   "outputs": [
    {
     "data": {
      "text/plain": [
       "<AxesSubplot: xlabel='country', ylabel='bmi'>"
      ]
     },
     "execution_count": 129,
     "metadata": {},
     "output_type": "execute_result"
    },
    {
     "data": {
      "image/png": "[encoded data removed]",
      "text/plain": [
       "<Figure size 1500x800 with 1 Axes>"
      ]
     },
     "metadata": {},
     "output_type": "display_data"
    }
   ],
   "source": [
    "plt.figure(figsize=(15, 8))\n",
    "sns.barplot(data=patients_total_2022, x='country', y='bmi', hue='gender')"
   ]
  },
  {
   "cell_type": "code",
   "execution_count": 130,
   "metadata": {},
   "outputs": [
    {
     "data": {
      "text/plain": [
       "<AxesSubplot: xlabel='country', ylabel='age_of_onset'>"
      ]
     },
     "execution_count": 130,
     "metadata": {},
     "output_type": "execute_result"
    },
    {
     "data": {
      "image/png": "[encoded data removed]",
      "text/plain": [
       "<Figure size 1500x800 with 1 Axes>"
      ]
     },
     "metadata": {},
     "output_type": "display_data"
    }
   ],
   "source": [
    "plt.figure(figsize=(15, 8))\n",
    "sns.barplot(data=patients_total_2022, x='country', y='age_of_onset', hue='gender')"
   ]
  },
  {
   "cell_type": "code",
   "execution_count": 131,
   "metadata": {},
   "outputs": [
    {
     "data": {
      "text/plain": [
       "<AxesSubplot: xlabel='age_interval', ylabel='count'>"
      ]
     },
     "execution_count": 131,
     "metadata": {},
     "output_type": "execute_result"
    },
    {
     "data": {
      "image/png": "[encoded data removed]",
      "text/plain": [
       "<Figure size 1500x800 with 1 Axes>"
      ]
     },
     "metadata": {},
     "output_type": "display_data"
    }
   ],
   "source": [
    "plt.figure(figsize=(15, 8))\n",
    "b = np.arange(0,110,10)\n",
    "l = [ \"{0}-{1}\".format(i, i + 10) for i in range(0, 100, 10)]\n",
    "patients_total_2022['age_interval'] = pd.cut(patients_total_2022['age_of_onset'], bins=b, labels=l)\n",
    "sns.countplot(data=patients_total_2022, x='age_interval', hue='gender')"
   ]
  },
  {
   "cell_type": "code",
   "execution_count": 132,
   "metadata": {},
   "outputs": [],
   "source": [
    "patients_total_2022['outcome_cd_state'] = patients_total_2022['outcome_cd'].apply(lambda x:'cured'\\\n",
    "if x == 'cured' else ('still on treatment' if x == 'stillOnTreatment' \\\n",
    "               else (\"died\" if x == 'died' else 'others')))"
   ]
  },
  {
   "cell_type": "code",
   "execution_count": 133,
   "metadata": {},
   "outputs": [
    {
     "data": {
      "text/plain": [
       "<AxesSubplot: xlabel='outcome_cd_state', ylabel='age_of_onset'>"
      ]
     },
     "execution_count": 133,
     "metadata": {},
     "output_type": "execute_result"
    },
    {
     "data": {
      "image/png": "[encoded data removed]",
      "text/plain": [
       "<Figure size 1500x800 with 1 Axes>"
      ]
     },
     "metadata": {},
     "output_type": "display_data"
    }
   ],
   "source": [
    "plt.figure(figsize=(15, 8))\n",
    "sns.barplot(data=patients_total_2022, x='outcome_cd_state', y='age_of_onset', hue='gender')"
   ]
  },
  {
   "cell_type": "code",
   "execution_count": 134,
   "metadata": {},
   "outputs": [
    {
     "data": {
      "text/plain": [
       "<AxesSubplot: xlabel='bmi', ylabel='outcome_cd_state'>"
      ]
     },
     "execution_count": 134,
     "metadata": {},
     "output_type": "execute_result"
    },
    {
     "data": {
      "image/png": "[encoded data removed]",
      "text/plain": [
       "<Figure size 1500x800 with 1 Axes>"
      ]
     },
     "metadata": {},
     "output_type": "display_data"
    }
   ],
   "source": [
    "plt.figure(figsize=(15, 8))\n",
    "sns.barplot(data=patients_total_2022, y='outcome_cd_state', x='bmi', hue='gender')"
   ]
  },
  {
   "cell_type": "code",
   "execution_count": null,
   "metadata": {},
   "outputs": [],
   "source": []
  },
  {
   "cell_type": "code",
   "execution_count": null,
   "metadata": {},
   "outputs": [],
   "source": []
  },
  {
   "cell_type": "code",
   "execution_count": 135,
   "metadata": {},
   "outputs": [],
   "source": [
    "patients_total_2023 = pd.merge(patients_2023_new, regimens_2023_new, on='patient_id')"
   ]
  },
  {
   "cell_type": "code",
   "execution_count": 136,
   "metadata": {},
   "outputs": [
    {
     "name": "stdout",
     "output_type": "stream",
     "text": [
      "<class 'pandas.core.frame.DataFrame'>\n",
      "Int64Index: 13240 entries, 0 to 13239\n",
      "Data columns (total 20 columns):\n",
      " #   Column                    Non-Null Count  Dtype  \n",
      "---  ------                    --------------  -----  \n",
      " 0   patient_id                13240 non-null  object \n",
      " 1   identifier                13240 non-null  int64  \n",
      " 2   registration_date         13240 non-null  int64  \n",
      " 3   age_of_onset              13240 non-null  int64  \n",
      " 4   gender                    13240 non-null  object \n",
      " 5   country                   13240 non-null  object \n",
      " 6   education                 13240 non-null  object \n",
      " 7   employment                13240 non-null  object \n",
      " 8   number_of_children        13240 non-null  float64\n",
      " 9   number_of_daily_contacts  13240 non-null  float64\n",
      " 10  case_definition           13240 non-null  object \n",
      " 11  diagnosis_code            13240 non-null  object \n",
      " 12  type_of_resistance        13240 non-null  object \n",
      " 13  bmi                       13240 non-null  float64\n",
      " 14  lung_localization         13240 non-null  object \n",
      " 15  x_ray_count               13240 non-null  int64  \n",
      " 16  status                    13240 non-null  object \n",
      " 17  condition_id              13240 non-null  object \n",
      " 18  period_span               13240 non-null  float64\n",
      " 19  outcome_cd                13240 non-null  object \n",
      "dtypes: float64(4), int64(4), object(12)\n",
      "memory usage: 2.1+ MB\n"
     ]
    }
   ],
   "source": [
    "patients_total_2023.info()"
   ]
  },
  {
   "cell_type": "code",
   "execution_count": 137,
   "metadata": {},
   "outputs": [
    {
     "data": {
      "text/plain": [
       "<AxesSubplot: ylabel='gender'>"
      ]
     },
     "execution_count": 137,
     "metadata": {},
     "output_type": "execute_result"
    },
    {
     "data": {
      "image/png": "[encoded data removed]",
      "text/plain": [
       "<Figure size 640x480 with 1 Axes>"
      ]
     },
     "metadata": {},
     "output_type": "display_data"
    }
   ],
   "source": [
    "patients_total_2023.groupby(['gender'])['gender'].count().plot(kind='pie')"
   ]
  },
  {
   "cell_type": "code",
   "execution_count": 138,
   "metadata": {},
   "outputs": [
    {
     "data": {
      "text/plain": [
       "<AxesSubplot: xlabel='country', ylabel='bmi'>"
      ]
     },
     "execution_count": 138,
     "metadata": {},
     "output_type": "execute_result"
    },
    {
     "data": {
      "image/png": "[encoded data removed]",
      "text/plain": [
       "<Figure size 1500x800 with 1 Axes>"
      ]
     },
     "metadata": {},
     "output_type": "display_data"
    }
   ],
   "source": [
    "plt.figure(figsize=(15, 8))\n",
    "sns.barplot(data=patients_total_2023, x='country', y='bmi', hue='gender')"
   ]
  },
  {
   "cell_type": "code",
   "execution_count": 139,
   "metadata": {},
   "outputs": [
    {
     "data": {
      "text/plain": [
       "<AxesSubplot: xlabel='age_interval', ylabel='count'>"
      ]
     },
     "execution_count": 139,
     "metadata": {},
     "output_type": "execute_result"
    },
    {
     "data": {
      "image/png": "[encoded data removed]",
      "text/plain": [
       "<Figure size 1500x800 with 1 Axes>"
      ]
     },
     "metadata": {},
     "output_type": "display_data"
    }
   ],
   "source": [
    "plt.figure(figsize=(15, 8))\n",
    "b = np.arange(0,110,10)\n",
    "l = [ \"{0}-{1}\".format(i, i + 10) for i in range(0, 100, 10)]\n",
    "patients_total_2023['age_interval'] = pd.cut(patients_total_2023['age_of_onset'], bins=b, labels=l)\n",
    "sns.countplot(data=patients_total_2023, x='age_interval', hue='gender')"
   ]
  },
  {
   "cell_type": "code",
   "execution_count": 140,
   "metadata": {},
   "outputs": [],
   "source": [
    "patients_total_2023['outcome_cd_state'] = patients_total_2023['outcome_cd'].apply(lambda x:'cured'\\\n",
    "if x == 'cured' else ('still on treatment' if x == 'stillOnTreatment' \\\n",
    "               else (\"died\" if x == 'died' else 'others')))"
   ]
  },
  {
   "cell_type": "code",
   "execution_count": 141,
   "metadata": {},
   "outputs": [
    {
     "data": {
      "text/plain": [
       "<AxesSubplot: xlabel='outcome_cd_state', ylabel='age_of_onset'>"
      ]
     },
     "execution_count": 141,
     "metadata": {},
     "output_type": "execute_result"
    },
    {
     "data": {
      "image/png": "[encoded data removed]",
      "text/plain": [
       "<Figure size 1500x800 with 1 Axes>"
      ]
     },
     "metadata": {},
     "output_type": "display_data"
    }
   ],
   "source": [
    "plt.figure(figsize=(15, 8))\n",
    "sns.barplot(data=patients_total_2023, x='outcome_cd_state', y='age_of_onset', hue='gender')"
   ]
  },
  {
   "cell_type": "code",
   "execution_count": 142,
   "metadata": {},
   "outputs": [
    {
     "data": {
      "text/plain": [
       "<AxesSubplot: xlabel='bmi', ylabel='outcome_cd_state'>"
      ]
     },
     "execution_count": 142,
     "metadata": {},
     "output_type": "execute_result"
    },
    {
     "data": {
      "image/png": "[encoded data removed]",
      "text/plain": [
       "<Figure size 1500x800 with 1 Axes>"
      ]
     },
     "metadata": {},
     "output_type": "display_data"
    }
   ],
   "source": [
    "plt.figure(figsize=(15, 8))\n",
    "sns.barplot(data=patients_total_2023, y='outcome_cd_state', x='bmi', hue='gender')"
   ]
  },
  {
   "cell_type": "code",
   "execution_count": 143,
   "metadata": {},
   "outputs": [],
   "source": [
    "patients_total_2022['year'] = 2022\n",
    "patients_total_2023['year'] = 2023"
   ]
  },
  {
   "cell_type": "code",
   "execution_count": 144,
   "metadata": {},
   "outputs": [],
   "source": [
    "patients_total = pd.concat([patients_total_2022, patients_total_2023])"
   ]
  },
  {
   "cell_type": "code",
   "execution_count": 145,
   "metadata": {},
   "outputs": [
    {
     "name": "stdout",
     "output_type": "stream",
     "text": [
      "<class 'pandas.core.frame.DataFrame'>\n",
      "Int64Index: 23337 entries, 0 to 13239\n",
      "Data columns (total 23 columns):\n",
      " #   Column                    Non-Null Count  Dtype   \n",
      "---  ------                    --------------  -----   \n",
      " 0   patient_id                23337 non-null  object  \n",
      " 1   identifier                23337 non-null  int64   \n",
      " 2   registration_date         23337 non-null  int64   \n",
      " 3   age_of_onset              23337 non-null  int64   \n",
      " 4   gender                    23337 non-null  object  \n",
      " 5   country                   23337 non-null  object  \n",
      " 6   education                 23337 non-null  object  \n",
      " 7   employment                23337 non-null  object  \n",
      " 8   number_of_children        23337 non-null  float64 \n",
      " 9   number_of_daily_contacts  23337 non-null  float64 \n",
      " 10  case_definition           23337 non-null  object  \n",
      " 11  diagnosis_code            23337 non-null  object  \n",
      " 12  type_of_resistance        23337 non-null  object  \n",
      " 13  bmi                       23337 non-null  float64 \n",
      " 14  lung_localization         23337 non-null  object  \n",
      " 15  x_ray_count               23337 non-null  int64   \n",
      " 16  status                    23337 non-null  object  \n",
      " 17  condition_id              23337 non-null  object  \n",
      " 18  period_span               23337 non-null  float64 \n",
      " 19  outcome_cd                23337 non-null  object  \n",
      " 20  age_interval              23337 non-null  category\n",
      " 21  outcome_cd_state          23337 non-null  object  \n",
      " 22  year                      23337 non-null  int64   \n",
      "dtypes: category(1), float64(4), int64(5), object(13)\n",
      "memory usage: 4.1+ MB\n"
     ]
    }
   ],
   "source": [
    "patients_total.info()"
   ]
  },
  {
   "cell_type": "code",
   "execution_count": 146,
   "metadata": {},
   "outputs": [
    {
     "data": {
      "text/html": [
       "<div>\n",
       "<style scoped>\n",
       "    .dataframe tbody tr th:only-of-type {\n",
       "        vertical-align: middle;\n",
       "    }\n",
       "\n",
       "    .dataframe tbody tr th {\n",
       "        vertical-align: top;\n",
       "    }\n",
       "\n",
       "    .dataframe thead th {\n",
       "        text-align: right;\n",
       "    }\n",
       "</style>\n",
       "<table border=\"1\" class=\"dataframe\">\n",
       "  <thead>\n",
       "    <tr style=\"text-align: right;\">\n",
       "      <th></th>\n",
       "      <th>patient_id</th>\n",
       "      <th>identifier</th>\n",
       "      <th>registration_date</th>\n",
       "      <th>age_of_onset</th>\n",
       "      <th>gender</th>\n",
       "      <th>country</th>\n",
       "      <th>education</th>\n",
       "      <th>employment</th>\n",
       "      <th>number_of_children</th>\n",
       "      <th>number_of_daily_contacts</th>\n",
       "      <th>...</th>\n",
       "      <th>bmi</th>\n",
       "      <th>lung_localization</th>\n",
       "      <th>x_ray_count</th>\n",
       "      <th>status</th>\n",
       "      <th>condition_id</th>\n",
       "      <th>period_span</th>\n",
       "      <th>outcome_cd</th>\n",
       "      <th>age_interval</th>\n",
       "      <th>outcome_cd_state</th>\n",
       "      <th>year</th>\n",
       "    </tr>\n",
       "  </thead>\n",
       "  <tbody>\n",
       "    <tr>\n",
       "      <th>0</th>\n",
       "      <td>96f7d990-d005-4ecd-a22d-6d227d86a87d</td>\n",
       "      <td>6207</td>\n",
       "      <td>2020</td>\n",
       "      <td>23</td>\n",
       "      <td>Female</td>\n",
       "      <td>Georgia</td>\n",
       "      <td>Not Reported</td>\n",
       "      <td>Unemployed</td>\n",
       "      <td>0.383111</td>\n",
       "      <td>1.651759</td>\n",
       "      <td>...</td>\n",
       "      <td>15.739145</td>\n",
       "      <td>Pulmonary</td>\n",
       "      <td>1</td>\n",
       "      <td>final</td>\n",
       "      <td>000e6c76-07b4-43cc-b668-048612911ce4</td>\n",
       "      <td>182.0</td>\n",
       "      <td>cured</td>\n",
       "      <td>20-30</td>\n",
       "      <td>cured</td>\n",
       "      <td>2022</td>\n",
       "    </tr>\n",
       "    <tr>\n",
       "      <th>1</th>\n",
       "      <td>6affc79d-54c6-463f-b5af-f1f0e66776c6</td>\n",
       "      <td>9152</td>\n",
       "      <td>2019</td>\n",
       "      <td>48</td>\n",
       "      <td>Male</td>\n",
       "      <td>Moldova</td>\n",
       "      <td>Complete school (a-level, gymnasium)</td>\n",
       "      <td>Unemployed</td>\n",
       "      <td>0.000000</td>\n",
       "      <td>1.000000</td>\n",
       "      <td>...</td>\n",
       "      <td>18.600000</td>\n",
       "      <td>Pulmonary</td>\n",
       "      <td>1</td>\n",
       "      <td>final</td>\n",
       "      <td>001dc6ee-4925-4505-a4f6-e79d2e31d1cf</td>\n",
       "      <td>203.0</td>\n",
       "      <td>cured</td>\n",
       "      <td>40-50</td>\n",
       "      <td>cured</td>\n",
       "      <td>2022</td>\n",
       "    </tr>\n",
       "    <tr>\n",
       "      <th>2</th>\n",
       "      <td>74aae92e-6a8e-437a-affc-a049f5322676</td>\n",
       "      <td>8020</td>\n",
       "      <td>2019</td>\n",
       "      <td>24</td>\n",
       "      <td>Male</td>\n",
       "      <td>Moldova</td>\n",
       "      <td>Complete school (a-level, gymnasium)</td>\n",
       "      <td>Disabled</td>\n",
       "      <td>0.000000</td>\n",
       "      <td>1.000000</td>\n",
       "      <td>...</td>\n",
       "      <td>24.500000</td>\n",
       "      <td>Pulmonary</td>\n",
       "      <td>1</td>\n",
       "      <td>final</td>\n",
       "      <td>002cea6e-758b-4e65-b4c4-ae0155a458d8</td>\n",
       "      <td>527.0</td>\n",
       "      <td>ltfu</td>\n",
       "      <td>20-30</td>\n",
       "      <td>others</td>\n",
       "      <td>2022</td>\n",
       "    </tr>\n",
       "    <tr>\n",
       "      <th>3</th>\n",
       "      <td>6f8bb80f-1bc8-4e2e-bf6e-b4e3bebc662d</td>\n",
       "      <td>7020</td>\n",
       "      <td>2019</td>\n",
       "      <td>37</td>\n",
       "      <td>Male</td>\n",
       "      <td>Ukraine</td>\n",
       "      <td>College (bachelor)</td>\n",
       "      <td>Unemployed</td>\n",
       "      <td>0.383111</td>\n",
       "      <td>1.000000</td>\n",
       "      <td>...</td>\n",
       "      <td>22.300000</td>\n",
       "      <td>Pulmonary</td>\n",
       "      <td>1</td>\n",
       "      <td>final</td>\n",
       "      <td>00376922-57ad-47be-9b42-9fa35cfbb1a8</td>\n",
       "      <td>534.0</td>\n",
       "      <td>completed</td>\n",
       "      <td>30-40</td>\n",
       "      <td>others</td>\n",
       "      <td>2022</td>\n",
       "    </tr>\n",
       "    <tr>\n",
       "      <th>4</th>\n",
       "      <td>79bf51ab-76ea-4bab-a3ab-bef40f1b618e</td>\n",
       "      <td>4195</td>\n",
       "      <td>2019</td>\n",
       "      <td>58</td>\n",
       "      <td>Male</td>\n",
       "      <td>Georgia</td>\n",
       "      <td>Not Reported</td>\n",
       "      <td>Unemployed</td>\n",
       "      <td>0.383111</td>\n",
       "      <td>1.651759</td>\n",
       "      <td>...</td>\n",
       "      <td>15.739145</td>\n",
       "      <td>Pulmonary</td>\n",
       "      <td>1</td>\n",
       "      <td>final</td>\n",
       "      <td>003e095a-db07-4abe-b07d-3050fc77f925</td>\n",
       "      <td>179.0</td>\n",
       "      <td>cured</td>\n",
       "      <td>50-60</td>\n",
       "      <td>cured</td>\n",
       "      <td>2022</td>\n",
       "    </tr>\n",
       "  </tbody>\n",
       "</table>\n",
       "<p>5 rows × 23 columns</p>\n",
       "</div>"
      ],
      "text/plain": [
       "                             patient_id  identifier  registration_date  \\\n",
       "0  96f7d990-d005-4ecd-a22d-6d227d86a87d        6207               2020   \n",
       "1  6affc79d-54c6-463f-b5af-f1f0e66776c6        9152               2019   \n",
       "2  74aae92e-6a8e-437a-affc-a049f5322676        8020               2019   \n",
       "3  6f8bb80f-1bc8-4e2e-bf6e-b4e3bebc662d        7020               2019   \n",
       "4  79bf51ab-76ea-4bab-a3ab-bef40f1b618e        4195               2019   \n",
       "\n",
       "   age_of_onset  gender  country                             education  \\\n",
       "0            23  Female  Georgia                          Not Reported   \n",
       "1            48    Male  Moldova  Complete school (a-level, gymnasium)   \n",
       "2            24    Male  Moldova  Complete school (a-level, gymnasium)   \n",
       "3            37    Male  Ukraine                    College (bachelor)   \n",
       "4            58    Male  Georgia                          Not Reported   \n",
       "\n",
       "   employment  number_of_children  number_of_daily_contacts  ...        bmi  \\\n",
       "0  Unemployed            0.383111                  1.651759  ...  15.739145   \n",
       "1  Unemployed            0.000000                  1.000000  ...  18.600000   \n",
       "2    Disabled            0.000000                  1.000000  ...  24.500000   \n",
       "3  Unemployed            0.383111                  1.000000  ...  22.300000   \n",
       "4  Unemployed            0.383111                  1.651759  ...  15.739145   \n",
       "\n",
       "  lung_localization x_ray_count  status                          condition_id  \\\n",
       "0         Pulmonary           1   final  000e6c76-07b4-43cc-b668-048612911ce4   \n",
       "1         Pulmonary           1   final  001dc6ee-4925-4505-a4f6-e79d2e31d1cf   \n",
       "2         Pulmonary           1   final  002cea6e-758b-4e65-b4c4-ae0155a458d8   \n",
       "3         Pulmonary           1   final  00376922-57ad-47be-9b42-9fa35cfbb1a8   \n",
       "4         Pulmonary           1   final  003e095a-db07-4abe-b07d-3050fc77f925   \n",
       "\n",
       "   period_span outcome_cd age_interval  outcome_cd_state  year  \n",
       "0        182.0      cured        20-30             cured  2022  \n",
       "1        203.0      cured        40-50             cured  2022  \n",
       "2        527.0       ltfu        20-30            others  2022  \n",
       "3        534.0  completed        30-40            others  2022  \n",
       "4        179.0      cured        50-60             cured  2022  \n",
       "\n",
       "[5 rows x 23 columns]"
      ]
     },
     "execution_count": 146,
     "metadata": {},
     "output_type": "execute_result"
    }
   ],
   "source": [
    "patients_total.head()"
   ]
  },
  {
   "cell_type": "code",
   "execution_count": 149,
   "metadata": {},
   "outputs": [
    {
     "data": {
      "text/plain": [
       "<AxesSubplot: xlabel='outcome_cd_state', ylabel='age_of_onset'>"
      ]
     },
     "execution_count": 149,
     "metadata": {},
     "output_type": "execute_result"
    },
    {
     "data": {
      "image/png": "[encoded data removed]",
      "text/plain": [
       "<Figure size 1500x800 with 1 Axes>"
      ]
     },
     "metadata": {},
     "output_type": "display_data"
    }
   ],
   "source": [
    "plt.figure(figsize=(15, 8))\n",
    "sns.barplot(data=patients_total, x='outcome_cd_state', y='age_of_onset', hue='year')"
   ]
  },
  {
   "cell_type": "code",
   "execution_count": 151,
   "metadata": {},
   "outputs": [
    {
     "data": {
      "text/plain": [
       "<AxesSubplot: xlabel='year'>"
      ]
     },
     "execution_count": 151,
     "metadata": {},
     "output_type": "execute_result"
    },
    {
     "data": {
      "image/png": "[encoded data removed]",
      "text/plain": [
       "<Figure size 640x480 with 1 Axes>"
      ]
     },
     "metadata": {},
     "output_type": "display_data"
    }
   ],
   "source": [
    "patients_total.groupby('year')['outcome_cd'].count().plot(kind='bar')"
   ]
  },
  {
   "cell_type": "code",
   "execution_count": 159,
   "metadata": {},
   "outputs": [
    {
     "data": {
      "text/plain": [
       "<AxesSubplot: xlabel='year'>"
      ]
     },
     "execution_count": 159,
     "metadata": {},
     "output_type": "execute_result"
    },
    {
     "data": {
      "image/png": "[encoded data removed]",
      "text/plain": [
       "<Figure size 640x480 with 1 Axes>"
      ]
     },
     "metadata": {},
     "output_type": "display_data"
    }
   ],
   "source": [
    "patients_total_cured = patients_total[patients_total['outcome_cd'] == 'cured']\n",
    "patients_total_cured.groupby('year')['year'].count().plot(kind='bar', color='green')"
   ]
  },
  {
   "cell_type": "code",
   "execution_count": 160,
   "metadata": {},
   "outputs": [
    {
     "data": {
      "text/plain": [
       "<AxesSubplot: xlabel='year'>"
      ]
     },
     "execution_count": 160,
     "metadata": {},
     "output_type": "execute_result"
    },
    {
     "data": {
      "image/png": "[encoded data removed]",
      "text/plain": [
       "<Figure size 640x480 with 1 Axes>"
      ]
     },
     "metadata": {},
     "output_type": "display_data"
    }
   ],
   "source": [
    "patients_total_died = patients_total[patients_total['outcome_cd'] == 'died']\n",
    "patients_total_died.groupby('year')['year'].count().plot(kind='bar',color='red')"
   ]
  },
  {
   "cell_type": "code",
   "execution_count": null,
   "metadata": {},
   "outputs": [],
   "source": []
  }
 ],
 "metadata": {
  "kernelspec": {
   "display_name": "Python 3",
   "language": "python",
   "name": "python3"
  },
  "language_info": {
   "codemirror_mode": {
    "name": "ipython",
    "version": 3
   },
   "file_extension": ".py",
   "mimetype": "text/x-python",
   "name": "python",
   "nbconvert_exporter": "python",
   "pygments_lexer": "ipython3",
   "version": "3.11.2"
  },
  "orig_nbformat": 4
 },
 "nbformat": 4,
 "nbformat_minor": 2
}
